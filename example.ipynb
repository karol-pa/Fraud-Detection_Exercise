{
 "cells": [
  {
   "cell_type": "code",
   "execution_count": 1,
   "id": "fcd9c20c-e968-4ca3-ad78-3b73b53b397f",
   "metadata": {
    "tags": []
   },
   "outputs": [],
   "source": [
    "\n",
    "\n",
    "import pandas as pd\n",
    "import numpy as np\n",
    "import matplotlib.pyplot as plt\n",
    "\n",
    "import seaborn as sns\n",
    "import plotly.express as px\n",
    "import plotly.graph_objects as go\n",
    "import warnings\n",
    "warnings.simplefilter('ignore')\n",
    "\n"
   ]
  },
  {
   "cell_type": "code",
   "execution_count": 2,
   "id": "f75a72c4-60d7-45ce-b51f-5098d3a963ce",
   "metadata": {
    "tags": []
   },
   "outputs": [],
   "source": [
    "DATA_DIR = 'content'\n",
    "\n",
    "TRAIN_DIR = f'{DATA_DIR}/train'\n",
    "TEST_DIR = f'{DATA_DIR}/test'\n",
    "\n",
    "OUTPUT_DIR = f'{DATA_DIR}/output'\n",
    "\n",
    "client_train = pd.read_csv(f'{TRAIN_DIR}/client_train.csv', low_memory=False)\n",
    "invoice_train = pd.read_csv(f'{TRAIN_DIR}/invoice_train.csv', low_memory=False)\n"
   ]
  },
  {
   "cell_type": "code",
   "execution_count": 3,
   "id": "dca21171-9a78-45bd-ad14-46b82af22410",
   "metadata": {
    "tags": []
   },
   "outputs": [
    {
     "name": "stdout",
     "output_type": "stream",
     "text": [
      "Number of unique values in invoice_train:\n",
      "client_id - 135493\n",
      "invoice_date - 8275\n",
      "tarif_type - 17\n",
      "counter_number - 201893\n",
      "counter_statue - 12\n",
      "counter_code - 42\n",
      "reading_remarque - 8\n",
      "counter_coefficient - 16\n",
      "consommation_level_1 - 8295\n",
      "consommation_level_2 - 12576\n",
      "consommation_level_3 - 2253\n",
      "consommation_level_4 - 12075\n",
      "old_index - 155648\n",
      "new_index - 157980\n",
      "months_number - 1370\n",
      "counter_type - 2\n"
     ]
    }
   ],
   "source": [
    "print('Number of unique values in invoice_train:')\n",
    "for col in invoice_train.columns:\n",
    "    print(f\"{col} - {invoice_train[col].nunique()}\")\n"
   ]
  },
  {
   "cell_type": "code",
   "execution_count": 4,
   "id": "d65380d1-82e6-43c6-b343-88c6efb5e33d",
   "metadata": {
    "tags": []
   },
   "outputs": [
    {
     "name": "stdout",
     "output_type": "stream",
     "text": [
      "Number of unique values in invoice_train:\n",
      "client_id - 135493\n",
      "invoice_date - 8275\n",
      "tarif_type - 17\n",
      "counter_number - 201893\n",
      "counter_statue - 12\n",
      "counter_code - 42\n",
      "reading_remarque - 8\n",
      "counter_coefficient - 16\n",
      "consommation_level_1 - 8295\n",
      "consommation_level_2 - 12576\n",
      "consommation_level_3 - 2253\n",
      "consommation_level_4 - 12075\n",
      "old_index - 155648\n",
      "new_index - 157980\n",
      "months_number - 1370\n",
      "counter_type - 2\n"
     ]
    }
   ],
   "source": [
    "print('Number of unique values in invoice_train:')\n",
    "for col in invoice_train.columns:\n",
    "    print(f\"{col} - {invoice_train[col].nunique()}\")\n"
   ]
  },
  {
   "cell_type": "code",
   "execution_count": 5,
   "id": "f6cb0532-348a-4c37-ab4c-51438f95ea3b",
   "metadata": {
    "tags": []
   },
   "outputs": [],
   "source": [
    "def feature_change(cl, inv):\n",
    "\n",
    "    cl['client_catg'] = cl['client_catg'].astype('int')\n",
    "    cl['disrict'] = cl['disrict'].astype('int')\n",
    "    cl['region'] = cl['region'].astype('int')\n",
    "    cl['region_group'] = cl['region'].apply(lambda x: 100 if x<100 else 300 if x>300 else 200)\n",
    "    cl['creation_date'] = pd.to_datetime(cl['creation_date'])\n",
    "    \n",
    "    cl['coop_time'] = (2019 - cl['creation_date'].dt.year)*12 - cl['creation_date'].dt.month\n",
    "\n",
    "    inv['counter_type'] = inv['counter_type'].map({\"ELEC\":1,\"GAZ\":0})\n",
    "    inv['counter_statue'] = inv['counter_statue'].map({0:0,1:1,2:2,3:3,4:4,5:5,769:5,'0':0,'5':5,'1':1,'4':4,'A':0,618:5,269375:5,46:5,420:5})\n",
    "    \n",
    "    inv['invoice_date'] = pd.to_datetime(inv['invoice_date'], dayfirst=True)\n",
    "    inv['invoice_month'] = inv['invoice_date'].dt.month\n",
    "    inv['invoice_year'] = inv['invoice_date'].dt.year\n",
    "    inv['is_weekday'] = ((pd.DatetimeIndex(inv.invoice_date).dayofweek) // 5 == 1).astype(float)\n",
    "    inv['delta_index'] = inv['new_index'] - inv['old_index']\n",
    "    \n",
    "    return cl, inv"
   ]
  },
  {
   "cell_type": "code",
   "execution_count": 6,
   "id": "6424130b-2fb5-493c-acdb-d7f7c178508f",
   "metadata": {
    "tags": []
   },
   "outputs": [],
   "source": [
    "client_train1, invoice_train1 = feature_change(client_train, invoice_train)"
   ]
  },
  {
   "cell_type": "code",
   "execution_count": 7,
   "id": "89b7532f-9ecb-4c88-98a4-1c3d017d8b06",
   "metadata": {
    "tags": []
   },
   "outputs": [],
   "source": [
    "def agg_feature(invoice, client_df, agg_stat):\n",
    "    \n",
    "    invoice['delta_time'] = invoice.sort_values(['client_id','invoice_date']).groupby('client_id')['invoice_date'].diff().dt.days.reset_index(drop=True)\n",
    "    agg_trans = invoice.groupby('client_id')[agg_stat+['delta_time']].agg(['mean','std','min','max'])\n",
    "    \n",
    "    agg_trans.columns = ['_'.join(col).strip() for col in agg_trans.columns.values]\n",
    "    agg_trans.reset_index(inplace=True)\n",
    "\n",
    "    df = invoice.groupby('client_id').size().reset_index(name='transactions_count')\n",
    "    agg_trans = pd.merge(df, agg_trans, on='client_id', how='left')\n",
    "    \n",
    "    weekday_avg = invoice.groupby('client_id')[['is_weekday']].agg(['mean'])\n",
    "    weekday_avg.columns = ['_'.join(col).strip() for col in weekday_avg.columns.values]\n",
    "    weekday_avg.reset_index(inplace=True)\n",
    "    client_df = pd.merge(client_df, weekday_avg, on='client_id', how='left')\n",
    "    \n",
    "    full_df = pd.merge(client_df, agg_trans, on='client_id', how='left')\n",
    "    \n",
    "    full_df['invoice_per_cooperation'] = full_df['transactions_count'] / full_df['coop_time']\n",
    "    \n",
    "    return full_df"
   ]
  },
  {
   "cell_type": "code",
   "execution_count": 8,
   "id": "af1fe157-711b-4ef3-bbbd-72e27cde368e",
   "metadata": {
    "tags": []
   },
   "outputs": [],
   "source": [
    "agg_stat_columns = [\n",
    " 'tarif_type',\n",
    " 'counter_number',\n",
    " 'counter_statue',\n",
    " 'counter_code',\n",
    " 'reading_remarque',\n",
    " 'consommation_level_1',\n",
    " 'consommation_level_2',\n",
    " 'consommation_level_3',\n",
    " 'consommation_level_4',\n",
    " 'old_index',\n",
    " 'new_index',\n",
    " 'months_number',\n",
    " 'counter_type',\n",
    " 'invoice_month',\n",
    " 'invoice_year',\n",
    " 'delta_index'\n",
    "]\n",
    "\n",
    "train_df1 = agg_feature(invoice_train1, client_train1, agg_stat_columns)"
   ]
  },
  {
   "cell_type": "code",
   "execution_count": 9,
   "id": "8d26f9c4-53ee-4758-9d9d-4fd770b24a10",
   "metadata": {
    "tags": []
   },
   "outputs": [],
   "source": [
    "def new_features(df):\n",
    "    \n",
    "    for col in agg_stat_columns:\n",
    "        df[col+'_range'] = df[col+'_max'] - df[col+'_min']\n",
    "        df[col+'_max_mean'] = df[col+'_max']/df[col+'_mean']\n",
    "    \n",
    "    return df"
   ]
  },
  {
   "cell_type": "code",
   "execution_count": 10,
   "id": "a7f10b9b-3d5e-4fe7-8915-47b306aa0b04",
   "metadata": {
    "tags": []
   },
   "outputs": [],
   "source": [
    "train_df2 = new_features(train_df1)"
   ]
  },
  {
   "cell_type": "code",
   "execution_count": 11,
   "id": "f0e27660-6fd6-4590-91b6-b875e1a82502",
   "metadata": {
    "tags": []
   },
   "outputs": [
    {
     "name": "stdout",
     "output_type": "stream",
     "text": [
      "Initial number of columns:  29\n",
      "Number of columns now:  111\n"
     ]
    }
   ],
   "source": [
    "print('Initial number of columns: ', len(client_train.columns)+len(invoice_train.columns))\n",
    "print('Number of columns now: ', len(train_df2.columns))\n",
    "\n"
   ]
  },
  {
   "cell_type": "code",
   "execution_count": 12,
   "id": "6667a38f-4c60-4860-ad7d-def5680eb38b",
   "metadata": {
    "tags": []
   },
   "outputs": [],
   "source": [
    "def drop(df):\n",
    "\n",
    "    col_drop = ['client_id', 'creation_date']\n",
    "    for col in col_drop:\n",
    "        df.drop([col], axis=1, inplace=True)\n",
    "    return df"
   ]
  },
  {
   "cell_type": "code",
   "execution_count": 13,
   "id": "1c1d68f0-697a-42d5-bba6-f4787c3c2cc6",
   "metadata": {
    "tags": []
   },
   "outputs": [],
   "source": [
    "train_df = drop(train_df2)"
   ]
  },
  {
   "cell_type": "code",
   "execution_count": 14,
   "id": "ed309985-22cb-4fcf-96cf-918cb4d81478",
   "metadata": {
    "tags": []
   },
   "outputs": [],
   "source": [
    "y = train_df['target']\n",
    "X = train_df.drop('target',axis=1)\n",
    "\n",
    "feature_name = X.columns.tolist()"
   ]
  },
  {
   "cell_type": "code",
   "execution_count": 15,
   "id": "2c0f4e07-ae77-43ab-abc2-b4ac75cb65b0",
   "metadata": {
    "tags": []
   },
   "outputs": [],
   "source": [
    "drop_col=['reading_remarque_max','counter_statue_min','counter_type_min','counter_type_max','counter_type_range',\n",
    "          'tarif_type_max', 'delta_index_min', 'consommation_level_4_mean']\n",
    "\n",
    "X = X.drop(drop_col, axis=1)"
   ]
  },
  {
   "cell_type": "markdown",
   "id": "1ed4bc35-df7b-4c1f-99fc-90c7991e7d98",
   "metadata": {
    "tags": []
   },
   "source": [
    "## Model"
   ]
  },
  {
   "cell_type": "code",
   "execution_count": 24,
   "id": "7a0d7020-9820-4316-a943-ff0ace7df576",
   "metadata": {
    "tags": []
   },
   "outputs": [],
   "source": [
    "from sklearn.model_selection import train_test_split, cross_val_score, GridSearchCV\n",
    "from sklearn.metrics import confusion_matrix, ConfusionMatrixDisplay, roc_auc_score, roc_curve, RocCurveDisplay, classification_report, f1_score, recall_score\n",
    "from sklearn.impute import SimpleImputer, KNNImputer\n",
    "from sklearn.linear_model import LogisticRegression\n",
    "from sklearn.neighbors import KNeighborsClassifier\n",
    "# bin numerical data, scale data, encode data\n",
    "from sklearn.preprocessing import KBinsDiscretizer, StandardScaler, MinMaxScaler, OneHotEncoder  \n",
    "from sklearn.pipeline import Pipeline\n",
    "from sklearn.compose import ColumnTransformer\n",
    "from sklearn.dummy import DummyClassifier\n",
    "\n",
    "# XGBoost model\n",
    "#-------------------------------------------------------\n",
    "import xgboost as xgb\n",
    "from xgboost import XGBClassifier\n",
    "\n",
    "# LGBM model\n",
    "#-------------------------------------------------------\n",
    "import lightgbm\n",
    "from lightgbm import LGBMClassifier"
   ]
  },
  {
   "cell_type": "code",
   "execution_count": 17,
   "id": "89a6f1da-43f7-41b3-8e56-5f99564fef0a",
   "metadata": {
    "tags": []
   },
   "outputs": [],
   "source": [
    "X_train, X_test, y_train, y_test = train_test_split(X, y, stratify=y, random_state=777, test_size=0.2)"
   ]
  },
  {
   "cell_type": "code",
   "execution_count": null,
   "id": "6c05158d-a109-442a-bfd3-01141f8942d8",
   "metadata": {
    "tags": []
   },
   "outputs": [],
   "source": []
  },
  {
   "cell_type": "code",
   "execution_count": null,
   "id": "96d78a6e-5a3f-4804-9b97-dfa562320048",
   "metadata": {},
   "outputs": [],
   "source": []
  },
  {
   "cell_type": "code",
   "execution_count": 101,
   "id": "cbb7512e-e3b5-4558-9ce9-3671241c0090",
   "metadata": {
    "tags": []
   },
   "outputs": [
    {
     "name": "stdout",
     "output_type": "stream",
     "text": [
      "Recall-score = 0.2048909451421018, F1-score = 0.30097087378640774\n"
     ]
    }
   ],
   "source": []
  },
  {
   "cell_type": "markdown",
   "id": "1aff52fb-dd2d-4feb-b7f8-8b48c2d54a5e",
   "metadata": {},
   "source": [
    "## Grid search"
   ]
  },
  {
   "cell_type": "code",
   "execution_count": 94,
   "id": "0ff3a077-0234-44cc-af78-37a936998b9b",
   "metadata": {
    "tags": []
   },
   "outputs": [
    {
     "name": "stderr",
     "output_type": "stream",
     "text": [
      "[LightGBM] [Fatal] Check failed: (feature_fraction) <= (1.0) at /tmp/pip-install-980pbj3x/lightgbm_3ba115fcc85344d4af4dd9a6e1e7ec36/src/io/config_auto.cpp, line 381 .\n",
      "\n",
      "[LightGBM] [Fatal] Check failed: (feature_fraction) <= (1.0) at /tmp/pip-install-980pbj3x/lightgbm_3ba115fcc85344d4af4dd9a6e1e7ec36/src/io/config_auto.cpp, line 381 .\n",
      "\n",
      "[LightGBM] [Fatal] Check failed: (feature_fraction) <= (1.0) at /tmp/pip-install-980pbj3x/lightgbm_3ba115fcc85344d4af4dd9a6e1e7ec36/src/io/config_auto.cpp, line 381 .\n",
      "\n",
      "[LightGBM] [Fatal] Check failed: (feature_fraction) <= (1.0) at /tmp/pip-install-980pbj3x/lightgbm_3ba115fcc85344d4af4dd9a6e1e7ec36/src/io/config_auto.cpp, line 381 .\n",
      "\n",
      "[LightGBM] [Fatal] Check failed: (feature_fraction) <= (1.0) at /tmp/pip-install-980pbj3x/lightgbm_3ba115fcc85344d4af4dd9a6e1e7ec36/src/io/config_auto.cpp, line 381 .\n",
      "\n",
      "[LightGBM] [Fatal] Check failed: (feature_fraction) <= (1.0) at /tmp/pip-install-980pbj3x/lightgbm_3ba115fcc85344d4af4dd9a6e1e7ec36/src/io/config_auto.cpp, line 381 .\n",
      "\n",
      "[LightGBM] [Fatal] Check failed: (feature_fraction) <= (1.0) at /tmp/pip-install-980pbj3x/lightgbm_3ba115fcc85344d4af4dd9a6e1e7ec36/src/io/config_auto.cpp, line 381 .\n",
      "\n",
      "[LightGBM] [Fatal] Check failed: (feature_fraction) <= (1.0) at /tmp/pip-install-980pbj3x/lightgbm_3ba115fcc85344d4af4dd9a6e1e7ec36/src/io/config_auto.cpp, line 381 .\n",
      "\n",
      "[LightGBM] [Fatal] Check failed: (feature_fraction) <= (1.0) at /tmp/pip-install-980pbj3x/lightgbm_3ba115fcc85344d4af4dd9a6e1e7ec36/src/io/config_auto.cpp, line 381 .\n",
      "\n",
      "[LightGBM] [Fatal] Check failed: (feature_fraction) <= (1.0) at /tmp/pip-install-980pbj3x/lightgbm_3ba115fcc85344d4af4dd9a6e1e7ec36/src/io/config_auto.cpp, line 381 .\n",
      "\n",
      "[LightGBM] [Fatal] Check failed: (feature_fraction) <= (1.0) at /tmp/pip-install-980pbj3x/lightgbm_3ba115fcc85344d4af4dd9a6e1e7ec36/src/io/config_auto.cpp, line 381 .\n",
      "\n",
      "[LightGBM] [Fatal] Check failed: (feature_fraction) <= (1.0) at /tmp/pip-install-980pbj3x/lightgbm_3ba115fcc85344d4af4dd9a6e1e7ec36/src/io/config_auto.cpp, line 381 .\n",
      "\n",
      "[LightGBM] [Fatal] Check failed: (feature_fraction) <= (1.0) at /tmp/pip-install-980pbj3x/lightgbm_3ba115fcc85344d4af4dd9a6e1e7ec36/src/io/config_auto.cpp, line 381 .\n",
      "\n",
      "[LightGBM] [Fatal] Check failed: (feature_fraction) <= (1.0) at /tmp/pip-install-980pbj3x/lightgbm_3ba115fcc85344d4af4dd9a6e1e7ec36/src/io/config_auto.cpp, line 381 .\n",
      "\n",
      "[LightGBM] [Fatal] Check failed: (feature_fraction) <= (1.0) at /tmp/pip-install-980pbj3x/lightgbm_3ba115fcc85344d4af4dd9a6e1e7ec36/src/io/config_auto.cpp, line 381 .\n",
      "\n",
      "[LightGBM] [Fatal] Check failed: (feature_fraction) <= (1.0) at /tmp/pip-install-980pbj3x/lightgbm_3ba115fcc85344d4af4dd9a6e1e7ec36/src/io/config_auto.cpp, line 381 .\n",
      "\n",
      "[LightGBM] [Fatal] Check failed: (feature_fraction) <= (1.0) at /tmp/pip-install-980pbj3x/lightgbm_3ba115fcc85344d4af4dd9a6e1e7ec36/src/io/config_auto.cpp, line 381 .\n",
      "\n",
      "[LightGBM] [Fatal] Check failed: (feature_fraction) <= (1.0) at /tmp/pip-install-980pbj3x/lightgbm_3ba115fcc85344d4af4dd9a6e1e7ec36/src/io/config_auto.cpp, line 381 .\n",
      "\n",
      "[LightGBM] [Fatal] Check failed: (feature_fraction) <= (1.0) at /tmp/pip-install-980pbj3x/lightgbm_3ba115fcc85344d4af4dd9a6e1e7ec36/src/io/config_auto.cpp, line 381 .\n",
      "\n",
      "[LightGBM] [Fatal] Check failed: (feature_fraction) <= (1.0) at /tmp/pip-install-980pbj3x/lightgbm_3ba115fcc85344d4af4dd9a6e1e7ec36/src/io/config_auto.cpp, line 381 .\n",
      "\n",
      "[LightGBM] [Fatal] Check failed: (feature_fraction) <= (1.0) at /tmp/pip-install-980pbj3x/lightgbm_3ba115fcc85344d4af4dd9a6e1e7ec36/src/io/config_auto.cpp, line 381 .\n",
      "\n",
      "[LightGBM] [Fatal] Check failed: (feature_fraction) <= (1.0) at /tmp/pip-install-980pbj3x/lightgbm_3ba115fcc85344d4af4dd9a6e1e7ec36/src/io/config_auto.cpp, line 381 .\n",
      "\n",
      "[LightGBM] [Fatal] Check failed: (feature_fraction) <= (1.0) at /tmp/pip-install-980pbj3x/lightgbm_3ba115fcc85344d4af4dd9a6e1e7ec36/src/io/config_auto.cpp, line 381 .\n",
      "\n",
      "[LightGBM] [Fatal] Check failed: (feature_fraction) <= (1.0) at /tmp/pip-install-980pbj3x/lightgbm_3ba115fcc85344d4af4dd9a6e1e7ec36/src/io/config_auto.cpp, line 381 .\n",
      "\n",
      "[LightGBM] [Fatal] Check failed: (feature_fraction) <= (1.0) at /tmp/pip-install-980pbj3x/lightgbm_3ba115fcc85344d4af4dd9a6e1e7ec36/src/io/config_auto.cpp, line 381 .\n",
      "\n",
      "[LightGBM] [Fatal] Check failed: (feature_fraction) <= (1.0) at /tmp/pip-install-980pbj3x/lightgbm_3ba115fcc85344d4af4dd9a6e1e7ec36/src/io/config_auto.cpp, line 381 .\n",
      "\n",
      "[LightGBM] [Fatal] Check failed: (feature_fraction) <= (1.0) at /tmp/pip-install-980pbj3x/lightgbm_3ba115fcc85344d4af4dd9a6e1e7ec36/src/io/config_auto.cpp, line 381 .\n",
      "\n",
      "[LightGBM] [Fatal] Check failed: (feature_fraction) <= (1.0) at /tmp/pip-install-980pbj3x/lightgbm_3ba115fcc85344d4af4dd9a6e1e7ec36/src/io/config_auto.cpp, line 381 .\n",
      "\n",
      "[LightGBM] [Fatal] Check failed: (feature_fraction) <= (1.0) at /tmp/pip-install-980pbj3x/lightgbm_3ba115fcc85344d4af4dd9a6e1e7ec36/src/io/config_auto.cpp, line 381 .\n",
      "\n",
      "[LightGBM] [Fatal] Check failed: (feature_fraction) <= (1.0) at /tmp/pip-install-980pbj3x/lightgbm_3ba115fcc85344d4af4dd9a6e1e7ec36/src/io/config_auto.cpp, line 381 .\n",
      "\n",
      "[LightGBM] [Fatal] Check failed: (feature_fraction) <= (1.0) at /tmp/pip-install-980pbj3x/lightgbm_3ba115fcc85344d4af4dd9a6e1e7ec36/src/io/config_auto.cpp, line 381 .\n",
      "\n",
      "[LightGBM] [Fatal] Check failed: (feature_fraction) <= (1.0) at /tmp/pip-install-980pbj3x/lightgbm_3ba115fcc85344d4af4dd9a6e1e7ec36/src/io/config_auto.cpp, line 381 .\n",
      "\n",
      "[LightGBM] [Fatal] Check failed: (feature_fraction) <= (1.0) at /tmp/pip-install-980pbj3x/lightgbm_3ba115fcc85344d4af4dd9a6e1e7ec36/src/io/config_auto.cpp, line 381 .\n",
      "\n",
      "[LightGBM] [Fatal] Check failed: (feature_fraction) <= (1.0) at /tmp/pip-install-980pbj3x/lightgbm_3ba115fcc85344d4af4dd9a6e1e7ec36/src/io/config_auto.cpp, line 381 .\n",
      "\n",
      "[LightGBM] [Fatal] Check failed: (feature_fraction) <= (1.0) at /tmp/pip-install-980pbj3x/lightgbm_3ba115fcc85344d4af4dd9a6e1e7ec36/src/io/config_auto.cpp, line 381 .\n",
      "\n",
      "[LightGBM] [Fatal] Check failed: (feature_fraction) <= (1.0) at /tmp/pip-install-980pbj3x/lightgbm_3ba115fcc85344d4af4dd9a6e1e7ec36/src/io/config_auto.cpp, line 381 .\n",
      "\n",
      "[LightGBM] [Fatal] Check failed: (feature_fraction) <= (1.0) at /tmp/pip-install-980pbj3x/lightgbm_3ba115fcc85344d4af4dd9a6e1e7ec36/src/io/config_auto.cpp, line 381 .\n",
      "\n",
      "[LightGBM] [Fatal] Check failed: (feature_fraction) <= (1.0) at /tmp/pip-install-980pbj3x/lightgbm_3ba115fcc85344d4af4dd9a6e1e7ec36/src/io/config_auto.cpp, line 381 .\n",
      "\n",
      "[LightGBM] [Fatal] Check failed: (feature_fraction) <= (1.0) at /tmp/pip-install-980pbj3x/lightgbm_3ba115fcc85344d4af4dd9a6e1e7ec36/src/io/config_auto.cpp, line 381 .\n",
      "\n",
      "[LightGBM] [Fatal] Check failed: (feature_fraction) <= (1.0) at /tmp/pip-install-980pbj3x/lightgbm_3ba115fcc85344d4af4dd9a6e1e7ec36/src/io/config_auto.cpp, line 381 .\n",
      "\n",
      "[LightGBM] [Fatal] Check failed: (feature_fraction) <= (1.0) at /tmp/pip-install-980pbj3x/lightgbm_3ba115fcc85344d4af4dd9a6e1e7ec36/src/io/config_auto.cpp, line 381 .\n",
      "\n",
      "[LightGBM] [Fatal] Check failed: (feature_fraction) <= (1.0) at /tmp/pip-install-980pbj3x/lightgbm_3ba115fcc85344d4af4dd9a6e1e7ec36/src/io/config_auto.cpp, line 381 .\n",
      "\n",
      "[LightGBM] [Fatal] Check failed: (feature_fraction) <= (1.0) at /tmp/pip-install-980pbj3x/lightgbm_3ba115fcc85344d4af4dd9a6e1e7ec36/src/io/config_auto.cpp, line 381 .\n",
      "\n",
      "[LightGBM] [Fatal] Check failed: (feature_fraction) <= (1.0) at /tmp/pip-install-980pbj3x/lightgbm_3ba115fcc85344d4af4dd9a6e1e7ec36/src/io/config_auto.cpp, line 381 .\n",
      "\n",
      "[LightGBM] [Fatal] Check failed: (feature_fraction) <= (1.0) at /tmp/pip-install-980pbj3x/lightgbm_3ba115fcc85344d4af4dd9a6e1e7ec36/src/io/config_auto.cpp, line 381 .\n",
      "\n",
      "[LightGBM] [Fatal] Check failed: (feature_fraction) <= (1.0) at /tmp/pip-install-980pbj3x/lightgbm_3ba115fcc85344d4af4dd9a6e1e7ec36/src/io/config_auto.cpp, line 381 .\n",
      "\n",
      "[LightGBM] [Fatal] Check failed: (feature_fraction) <= (1.0) at /tmp/pip-install-980pbj3x/lightgbm_3ba115fcc85344d4af4dd9a6e1e7ec36/src/io/config_auto.cpp, line 381 .\n",
      "\n",
      "[LightGBM] [Fatal] Check failed: (feature_fraction) <= (1.0) at /tmp/pip-install-980pbj3x/lightgbm_3ba115fcc85344d4af4dd9a6e1e7ec36/src/io/config_auto.cpp, line 381 .\n",
      "\n",
      "[LightGBM] [Fatal] Check failed: (feature_fraction) <= (1.0) at /tmp/pip-install-980pbj3x/lightgbm_3ba115fcc85344d4af4dd9a6e1e7ec36/src/io/config_auto.cpp, line 381 .\n",
      "\n",
      "[LightGBM] [Fatal] Check failed: (feature_fraction) <= (1.0) at /tmp/pip-install-980pbj3x/lightgbm_3ba115fcc85344d4af4dd9a6e1e7ec36/src/io/config_auto.cpp, line 381 .\n",
      "\n",
      "[LightGBM] [Fatal] Check failed: (feature_fraction) <= (1.0) at /tmp/pip-install-980pbj3x/lightgbm_3ba115fcc85344d4af4dd9a6e1e7ec36/src/io/config_auto.cpp, line 381 .\n",
      "\n",
      "[LightGBM] [Fatal] Check failed: (feature_fraction) <= (1.0) at /tmp/pip-install-980pbj3x/lightgbm_3ba115fcc85344d4af4dd9a6e1e7ec36/src/io/config_auto.cpp, line 381 .\n",
      "\n",
      "[LightGBM] [Fatal] Check failed: (feature_fraction) <= (1.0) at /tmp/pip-install-980pbj3x/lightgbm_3ba115fcc85344d4af4dd9a6e1e7ec36/src/io/config_auto.cpp, line 381 .\n",
      "\n",
      "[LightGBM] [Fatal] Check failed: (feature_fraction) <= (1.0) at /tmp/pip-install-980pbj3x/lightgbm_3ba115fcc85344d4af4dd9a6e1e7ec36/src/io/config_auto.cpp, line 381 .\n",
      "\n",
      "[LightGBM] [Fatal] Check failed: (feature_fraction) <= (1.0) at /tmp/pip-install-980pbj3x/lightgbm_3ba115fcc85344d4af4dd9a6e1e7ec36/src/io/config_auto.cpp, line 381 .\n",
      "\n",
      "[LightGBM] [Fatal] Check failed: (feature_fraction) <= (1.0) at /tmp/pip-install-980pbj3x/lightgbm_3ba115fcc85344d4af4dd9a6e1e7ec36/src/io/config_auto.cpp, line 381 .\n",
      "\n",
      "[LightGBM] [Fatal] Check failed: (feature_fraction) <= (1.0) at /tmp/pip-install-980pbj3x/lightgbm_3ba115fcc85344d4af4dd9a6e1e7ec36/src/io/config_auto.cpp, line 381 .\n",
      "\n",
      "[LightGBM] [Fatal] Check failed: (feature_fraction) <= (1.0) at /tmp/pip-install-980pbj3x/lightgbm_3ba115fcc85344d4af4dd9a6e1e7ec36/src/io/config_auto.cpp, line 381 .\n",
      "\n",
      "[LightGBM] [Fatal] Check failed: (feature_fraction) <= (1.0) at /tmp/pip-install-980pbj3x/lightgbm_3ba115fcc85344d4af4dd9a6e1e7ec36/src/io/config_auto.cpp, line 381 .\n",
      "\n",
      "[LightGBM] [Fatal] Check failed: (feature_fraction) <= (1.0) at /tmp/pip-install-980pbj3x/lightgbm_3ba115fcc85344d4af4dd9a6e1e7ec36/src/io/config_auto.cpp, line 381 .\n",
      "\n",
      "[LightGBM] [Fatal] Check failed: (feature_fraction) <= (1.0) at /tmp/pip-install-980pbj3x/lightgbm_3ba115fcc85344d4af4dd9a6e1e7ec36/src/io/config_auto.cpp, line 381 .\n",
      "\n",
      "[LightGBM] [Fatal] Check failed: (feature_fraction) <= (1.0) at /tmp/pip-install-980pbj3x/lightgbm_3ba115fcc85344d4af4dd9a6e1e7ec36/src/io/config_auto.cpp, line 381 .\n",
      "\n",
      "[LightGBM] [Fatal] Check failed: (feature_fraction) <= (1.0) at /tmp/pip-install-980pbj3x/lightgbm_3ba115fcc85344d4af4dd9a6e1e7ec36/src/io/config_auto.cpp, line 381 .\n",
      "\n",
      "[LightGBM] [Fatal] Check failed: (feature_fraction) <= (1.0) at /tmp/pip-install-980pbj3x/lightgbm_3ba115fcc85344d4af4dd9a6e1e7ec36/src/io/config_auto.cpp, line 381 .\n",
      "\n",
      "[LightGBM] [Fatal] Check failed: (feature_fraction) <= (1.0) at /tmp/pip-install-980pbj3x/lightgbm_3ba115fcc85344d4af4dd9a6e1e7ec36/src/io/config_auto.cpp, line 381 .\n",
      "\n",
      "[LightGBM] [Fatal] Check failed: (feature_fraction) <= (1.0) at /tmp/pip-install-980pbj3x/lightgbm_3ba115fcc85344d4af4dd9a6e1e7ec36/src/io/config_auto.cpp, line 381 .\n",
      "\n",
      "[LightGBM] [Fatal] Check failed: (feature_fraction) <= (1.0) at /tmp/pip-install-980pbj3x/lightgbm_3ba115fcc85344d4af4dd9a6e1e7ec36/src/io/config_auto.cpp, line 381 .\n",
      "\n",
      "[LightGBM] [Fatal] Check failed: (feature_fraction) <= (1.0) at /tmp/pip-install-980pbj3x/lightgbm_3ba115fcc85344d4af4dd9a6e1e7ec36/src/io/config_auto.cpp, line 381 .\n",
      "\n",
      "[LightGBM] [Fatal] Check failed: (feature_fraction) <= (1.0) at /tmp/pip-install-980pbj3x/lightgbm_3ba115fcc85344d4af4dd9a6e1e7ec36/src/io/config_auto.cpp, line 381 .\n",
      "\n",
      "[LightGBM] [Fatal] Check failed: (feature_fraction) <= (1.0) at /tmp/pip-install-980pbj3x/lightgbm_3ba115fcc85344d4af4dd9a6e1e7ec36/src/io/config_auto.cpp, line 381 .\n",
      "\n",
      "[LightGBM] [Fatal] Check failed: (feature_fraction) <= (1.0) at /tmp/pip-install-980pbj3x/lightgbm_3ba115fcc85344d4af4dd9a6e1e7ec36/src/io/config_auto.cpp, line 381 .\n",
      "\n",
      "[LightGBM] [Fatal] Check failed: (feature_fraction) <= (1.0) at /tmp/pip-install-980pbj3x/lightgbm_3ba115fcc85344d4af4dd9a6e1e7ec36/src/io/config_auto.cpp, line 381 .\n",
      "\n",
      "[LightGBM] [Fatal] Check failed: (feature_fraction) <= (1.0) at /tmp/pip-install-980pbj3x/lightgbm_3ba115fcc85344d4af4dd9a6e1e7ec36/src/io/config_auto.cpp, line 381 .\n",
      "\n",
      "[LightGBM] [Fatal] Check failed: (feature_fraction) <= (1.0) at /tmp/pip-install-980pbj3x/lightgbm_3ba115fcc85344d4af4dd9a6e1e7ec36/src/io/config_auto.cpp, line 381 .\n",
      "\n",
      "[LightGBM] [Fatal] Check failed: (feature_fraction) <= (1.0) at /tmp/pip-install-980pbj3x/lightgbm_3ba115fcc85344d4af4dd9a6e1e7ec36/src/io/config_auto.cpp, line 381 .\n",
      "\n",
      "[LightGBM] [Fatal] Check failed: (feature_fraction) <= (1.0) at /tmp/pip-install-980pbj3x/lightgbm_3ba115fcc85344d4af4dd9a6e1e7ec36/src/io/config_auto.cpp, line 381 .\n",
      "\n",
      "[LightGBM] [Fatal] Check failed: (feature_fraction) <= (1.0) at /tmp/pip-install-980pbj3x/lightgbm_3ba115fcc85344d4af4dd9a6e1e7ec36/src/io/config_auto.cpp, line 381 .\n",
      "\n",
      "[LightGBM] [Fatal] Check failed: (feature_fraction) <= (1.0) at /tmp/pip-install-980pbj3x/lightgbm_3ba115fcc85344d4af4dd9a6e1e7ec36/src/io/config_auto.cpp, line 381 .\n",
      "\n",
      "[LightGBM] [Fatal] Check failed: (feature_fraction) <= (1.0) at /tmp/pip-install-980pbj3x/lightgbm_3ba115fcc85344d4af4dd9a6e1e7ec36/src/io/config_auto.cpp, line 381 .\n",
      "\n",
      "[LightGBM] [Fatal] Check failed: (feature_fraction) <= (1.0) at /tmp/pip-install-980pbj3x/lightgbm_3ba115fcc85344d4af4dd9a6e1e7ec36/src/io/config_auto.cpp, line 381 .\n",
      "\n",
      "[LightGBM] [Fatal] Check failed: (feature_fraction) <= (1.0) at /tmp/pip-install-980pbj3x/lightgbm_3ba115fcc85344d4af4dd9a6e1e7ec36/src/io/config_auto.cpp, line 381 .\n",
      "\n",
      "[LightGBM] [Fatal] Check failed: (feature_fraction) <= (1.0) at /tmp/pip-install-980pbj3x/lightgbm_3ba115fcc85344d4af4dd9a6e1e7ec36/src/io/config_auto.cpp, line 381 .\n",
      "\n",
      "[LightGBM] [Fatal] Check failed: (feature_fraction) <= (1.0) at /tmp/pip-install-980pbj3x/lightgbm_3ba115fcc85344d4af4dd9a6e1e7ec36/src/io/config_auto.cpp, line 381 .\n",
      "\n",
      "[LightGBM] [Fatal] Check failed: (feature_fraction) <= (1.0) at /tmp/pip-install-980pbj3x/lightgbm_3ba115fcc85344d4af4dd9a6e1e7ec36/src/io/config_auto.cpp, line 381 .\n",
      "\n",
      "[LightGBM] [Fatal] Check failed: (feature_fraction) <= (1.0) at /tmp/pip-install-980pbj3x/lightgbm_3ba115fcc85344d4af4dd9a6e1e7ec36/src/io/config_auto.cpp, line 381 .\n",
      "\n",
      "[LightGBM] [Fatal] Check failed: (feature_fraction) <= (1.0) at /tmp/pip-install-980pbj3x/lightgbm_3ba115fcc85344d4af4dd9a6e1e7ec36/src/io/config_auto.cpp, line 381 .\n",
      "\n",
      "[LightGBM] [Fatal] Check failed: (feature_fraction) <= (1.0) at /tmp/pip-install-980pbj3x/lightgbm_3ba115fcc85344d4af4dd9a6e1e7ec36/src/io/config_auto.cpp, line 381 .\n",
      "\n",
      "[LightGBM] [Fatal] Check failed: (feature_fraction) <= (1.0) at /tmp/pip-install-980pbj3x/lightgbm_3ba115fcc85344d4af4dd9a6e1e7ec36/src/io/config_auto.cpp, line 381 .\n",
      "\n",
      "[LightGBM] [Fatal] Check failed: (feature_fraction) <= (1.0) at /tmp/pip-install-980pbj3x/lightgbm_3ba115fcc85344d4af4dd9a6e1e7ec36/src/io/config_auto.cpp, line 381 .\n",
      "\n",
      "[LightGBM] [Fatal] Check failed: (feature_fraction) <= (1.0) at /tmp/pip-install-980pbj3x/lightgbm_3ba115fcc85344d4af4dd9a6e1e7ec36/src/io/config_auto.cpp, line 381 .\n",
      "\n",
      "[LightGBM] [Fatal] Check failed: (feature_fraction) <= (1.0) at /tmp/pip-install-980pbj3x/lightgbm_3ba115fcc85344d4af4dd9a6e1e7ec36/src/io/config_auto.cpp, line 381 .\n",
      "\n",
      "[LightGBM] [Fatal] Check failed: (feature_fraction) <= (1.0) at /tmp/pip-install-980pbj3x/lightgbm_3ba115fcc85344d4af4dd9a6e1e7ec36/src/io/config_auto.cpp, line 381 .\n",
      "\n",
      "[LightGBM] [Fatal] Check failed: (feature_fraction) <= (1.0) at /tmp/pip-install-980pbj3x/lightgbm_3ba115fcc85344d4af4dd9a6e1e7ec36/src/io/config_auto.cpp, line 381 .\n",
      "\n",
      "[LightGBM] [Fatal] Check failed: (feature_fraction) <= (1.0) at /tmp/pip-install-980pbj3x/lightgbm_3ba115fcc85344d4af4dd9a6e1e7ec36/src/io/config_auto.cpp, line 381 .\n",
      "\n",
      "[LightGBM] [Fatal] Check failed: (feature_fraction) <= (1.0) at /tmp/pip-install-980pbj3x/lightgbm_3ba115fcc85344d4af4dd9a6e1e7ec36/src/io/config_auto.cpp, line 381 .\n",
      "\n",
      "[LightGBM] [Fatal] Check failed: (feature_fraction) <= (1.0) at /tmp/pip-install-980pbj3x/lightgbm_3ba115fcc85344d4af4dd9a6e1e7ec36/src/io/config_auto.cpp, line 381 .\n",
      "\n",
      "[LightGBM] [Fatal] Check failed: (feature_fraction) <= (1.0) at /tmp/pip-install-980pbj3x/lightgbm_3ba115fcc85344d4af4dd9a6e1e7ec36/src/io/config_auto.cpp, line 381 .\n",
      "\n",
      "[LightGBM] [Fatal] Check failed: (feature_fraction) <= (1.0) at /tmp/pip-install-980pbj3x/lightgbm_3ba115fcc85344d4af4dd9a6e1e7ec36/src/io/config_auto.cpp, line 381 .\n",
      "\n",
      "[LightGBM] [Fatal] Check failed: (feature_fraction) <= (1.0) at /tmp/pip-install-980pbj3x/lightgbm_3ba115fcc85344d4af4dd9a6e1e7ec36/src/io/config_auto.cpp, line 381 .\n",
      "\n",
      "[LightGBM] [Fatal] Check failed: (feature_fraction) <= (1.0) at /tmp/pip-install-980pbj3x/lightgbm_3ba115fcc85344d4af4dd9a6e1e7ec36/src/io/config_auto.cpp, line 381 .\n",
      "\n",
      "[LightGBM] [Fatal] Check failed: (feature_fraction) <= (1.0) at /tmp/pip-install-980pbj3x/lightgbm_3ba115fcc85344d4af4dd9a6e1e7ec36/src/io/config_auto.cpp, line 381 .\n",
      "\n",
      "[LightGBM] [Fatal] Check failed: (feature_fraction) <= (1.0) at /tmp/pip-install-980pbj3x/lightgbm_3ba115fcc85344d4af4dd9a6e1e7ec36/src/io/config_auto.cpp, line 381 .\n",
      "\n",
      "[LightGBM] [Fatal] Check failed: (feature_fraction) <= (1.0) at /tmp/pip-install-980pbj3x/lightgbm_3ba115fcc85344d4af4dd9a6e1e7ec36/src/io/config_auto.cpp, line 381 .\n",
      "\n",
      "[LightGBM] [Fatal] Check failed: (feature_fraction) <= (1.0) at /tmp/pip-install-980pbj3x/lightgbm_3ba115fcc85344d4af4dd9a6e1e7ec36/src/io/config_auto.cpp, line 381 .\n",
      "\n",
      "[LightGBM] [Fatal] Check failed: (feature_fraction) <= (1.0) at /tmp/pip-install-980pbj3x/lightgbm_3ba115fcc85344d4af4dd9a6e1e7ec36/src/io/config_auto.cpp, line 381 .\n",
      "\n",
      "[LightGBM] [Fatal] Check failed: (feature_fraction) <= (1.0) at /tmp/pip-install-980pbj3x/lightgbm_3ba115fcc85344d4af4dd9a6e1e7ec36/src/io/config_auto.cpp, line 381 .\n",
      "\n",
      "[LightGBM] [Fatal] Check failed: (feature_fraction) <= (1.0) at /tmp/pip-install-980pbj3x/lightgbm_3ba115fcc85344d4af4dd9a6e1e7ec36/src/io/config_auto.cpp, line 381 .\n",
      "\n",
      "[LightGBM] [Fatal] Check failed: (feature_fraction) <= (1.0) at /tmp/pip-install-980pbj3x/lightgbm_3ba115fcc85344d4af4dd9a6e1e7ec36/src/io/config_auto.cpp, line 381 .\n",
      "\n",
      "[LightGBM] [Fatal] Check failed: (feature_fraction) <= (1.0) at /tmp/pip-install-980pbj3x/lightgbm_3ba115fcc85344d4af4dd9a6e1e7ec36/src/io/config_auto.cpp, line 381 .\n",
      "\n",
      "[LightGBM] [Fatal] Check failed: (feature_fraction) <= (1.0) at /tmp/pip-install-980pbj3x/lightgbm_3ba115fcc85344d4af4dd9a6e1e7ec36/src/io/config_auto.cpp, line 381 .\n",
      "\n",
      "[LightGBM] [Fatal] Check failed: (feature_fraction) <= (1.0) at /tmp/pip-install-980pbj3x/lightgbm_3ba115fcc85344d4af4dd9a6e1e7ec36/src/io/config_auto.cpp, line 381 .\n",
      "\n",
      "[LightGBM] [Fatal] Check failed: (feature_fraction) <= (1.0) at /tmp/pip-install-980pbj3x/lightgbm_3ba115fcc85344d4af4dd9a6e1e7ec36/src/io/config_auto.cpp, line 381 .\n",
      "\n",
      "[LightGBM] [Fatal] Check failed: (feature_fraction) <= (1.0) at /tmp/pip-install-980pbj3x/lightgbm_3ba115fcc85344d4af4dd9a6e1e7ec36/src/io/config_auto.cpp, line 381 .\n",
      "\n",
      "[LightGBM] [Fatal] Check failed: (feature_fraction) <= (1.0) at /tmp/pip-install-980pbj3x/lightgbm_3ba115fcc85344d4af4dd9a6e1e7ec36/src/io/config_auto.cpp, line 381 .\n",
      "\n",
      "[LightGBM] [Fatal] Check failed: (feature_fraction) <= (1.0) at /tmp/pip-install-980pbj3x/lightgbm_3ba115fcc85344d4af4dd9a6e1e7ec36/src/io/config_auto.cpp, line 381 .\n",
      "\n",
      "[LightGBM] [Fatal] Check failed: (feature_fraction) <= (1.0) at /tmp/pip-install-980pbj3x/lightgbm_3ba115fcc85344d4af4dd9a6e1e7ec36/src/io/config_auto.cpp, line 381 .\n",
      "\n",
      "[LightGBM] [Fatal] Check failed: (feature_fraction) <= (1.0) at /tmp/pip-install-980pbj3x/lightgbm_3ba115fcc85344d4af4dd9a6e1e7ec36/src/io/config_auto.cpp, line 381 .\n",
      "\n",
      "[LightGBM] [Fatal] Check failed: (feature_fraction) <= (1.0) at /tmp/pip-install-980pbj3x/lightgbm_3ba115fcc85344d4af4dd9a6e1e7ec36/src/io/config_auto.cpp, line 381 .\n",
      "\n",
      "[LightGBM] [Fatal] Check failed: (feature_fraction) <= (1.0) at /tmp/pip-install-980pbj3x/lightgbm_3ba115fcc85344d4af4dd9a6e1e7ec36/src/io/config_auto.cpp, line 381 .\n",
      "\n",
      "[LightGBM] [Fatal] Check failed: (feature_fraction) <= (1.0) at /tmp/pip-install-980pbj3x/lightgbm_3ba115fcc85344d4af4dd9a6e1e7ec36/src/io/config_auto.cpp, line 381 .\n",
      "\n",
      "[LightGBM] [Fatal] Check failed: (feature_fraction) <= (1.0) at /tmp/pip-install-980pbj3x/lightgbm_3ba115fcc85344d4af4dd9a6e1e7ec36/src/io/config_auto.cpp, line 381 .\n",
      "\n",
      "[LightGBM] [Fatal] Check failed: (feature_fraction) <= (1.0) at /tmp/pip-install-980pbj3x/lightgbm_3ba115fcc85344d4af4dd9a6e1e7ec36/src/io/config_auto.cpp, line 381 .\n",
      "\n",
      "[LightGBM] [Fatal] Check failed: (feature_fraction) <= (1.0) at /tmp/pip-install-980pbj3x/lightgbm_3ba115fcc85344d4af4dd9a6e1e7ec36/src/io/config_auto.cpp, line 381 .\n",
      "\n",
      "[LightGBM] [Fatal] Check failed: (feature_fraction) <= (1.0) at /tmp/pip-install-980pbj3x/lightgbm_3ba115fcc85344d4af4dd9a6e1e7ec36/src/io/config_auto.cpp, line 381 .\n",
      "\n",
      "[LightGBM] [Fatal] Check failed: (feature_fraction) <= (1.0) at /tmp/pip-install-980pbj3x/lightgbm_3ba115fcc85344d4af4dd9a6e1e7ec36/src/io/config_auto.cpp, line 381 .\n",
      "\n",
      "[LightGBM] [Fatal] Check failed: (feature_fraction) <= (1.0) at /tmp/pip-install-980pbj3x/lightgbm_3ba115fcc85344d4af4dd9a6e1e7ec36/src/io/config_auto.cpp, line 381 .\n",
      "\n",
      "[LightGBM] [Fatal] Check failed: (feature_fraction) <= (1.0) at /tmp/pip-install-980pbj3x/lightgbm_3ba115fcc85344d4af4dd9a6e1e7ec36/src/io/config_auto.cpp, line 381 .\n",
      "\n",
      "[LightGBM] [Fatal] Check failed: (feature_fraction) <= (1.0) at /tmp/pip-install-980pbj3x/lightgbm_3ba115fcc85344d4af4dd9a6e1e7ec36/src/io/config_auto.cpp, line 381 .\n",
      "\n",
      "[LightGBM] [Fatal] Check failed: (feature_fraction) <= (1.0) at /tmp/pip-install-980pbj3x/lightgbm_3ba115fcc85344d4af4dd9a6e1e7ec36/src/io/config_auto.cpp, line 381 .\n",
      "\n",
      "[LightGBM] [Fatal] Check failed: (feature_fraction) <= (1.0) at /tmp/pip-install-980pbj3x/lightgbm_3ba115fcc85344d4af4dd9a6e1e7ec36/src/io/config_auto.cpp, line 381 .\n",
      "\n",
      "[LightGBM] [Fatal] Check failed: (feature_fraction) <= (1.0) at /tmp/pip-install-980pbj3x/lightgbm_3ba115fcc85344d4af4dd9a6e1e7ec36/src/io/config_auto.cpp, line 381 .\n",
      "\n",
      "[LightGBM] [Fatal] Check failed: (feature_fraction) <= (1.0) at /tmp/pip-install-980pbj3x/lightgbm_3ba115fcc85344d4af4dd9a6e1e7ec36/src/io/config_auto.cpp, line 381 .\n",
      "\n",
      "[LightGBM] [Fatal] Check failed: (feature_fraction) <= (1.0) at /tmp/pip-install-980pbj3x/lightgbm_3ba115fcc85344d4af4dd9a6e1e7ec36/src/io/config_auto.cpp, line 381 .\n",
      "\n",
      "[LightGBM] [Fatal] Check failed: (feature_fraction) <= (1.0) at /tmp/pip-install-980pbj3x/lightgbm_3ba115fcc85344d4af4dd9a6e1e7ec36/src/io/config_auto.cpp, line 381 .\n",
      "\n",
      "[LightGBM] [Fatal] Check failed: (feature_fraction) <= (1.0) at /tmp/pip-install-980pbj3x/lightgbm_3ba115fcc85344d4af4dd9a6e1e7ec36/src/io/config_auto.cpp, line 381 .\n",
      "\n",
      "[LightGBM] [Fatal] Check failed: (feature_fraction) <= (1.0) at /tmp/pip-install-980pbj3x/lightgbm_3ba115fcc85344d4af4dd9a6e1e7ec36/src/io/config_auto.cpp, line 381 .\n",
      "\n",
      "[LightGBM] [Fatal] Check failed: (feature_fraction) <= (1.0) at /tmp/pip-install-980pbj3x/lightgbm_3ba115fcc85344d4af4dd9a6e1e7ec36/src/io/config_auto.cpp, line 381 .\n",
      "\n",
      "[LightGBM] [Fatal] Check failed: (feature_fraction) <= (1.0) at /tmp/pip-install-980pbj3x/lightgbm_3ba115fcc85344d4af4dd9a6e1e7ec36/src/io/config_auto.cpp, line 381 .\n",
      "\n",
      "[LightGBM] [Fatal] Check failed: (feature_fraction) <= (1.0) at /tmp/pip-install-980pbj3x/lightgbm_3ba115fcc85344d4af4dd9a6e1e7ec36/src/io/config_auto.cpp, line 381 .\n",
      "\n",
      "[LightGBM] [Fatal] Check failed: (feature_fraction) <= (1.0) at /tmp/pip-install-980pbj3x/lightgbm_3ba115fcc85344d4af4dd9a6e1e7ec36/src/io/config_auto.cpp, line 381 .\n",
      "\n",
      "[LightGBM] [Fatal] Check failed: (feature_fraction) <= (1.0) at /tmp/pip-install-980pbj3x/lightgbm_3ba115fcc85344d4af4dd9a6e1e7ec36/src/io/config_auto.cpp, line 381 .\n",
      "\n",
      "[LightGBM] [Fatal] Check failed: (feature_fraction) <= (1.0) at /tmp/pip-install-980pbj3x/lightgbm_3ba115fcc85344d4af4dd9a6e1e7ec36/src/io/config_auto.cpp, line 381 .\n",
      "\n",
      "[LightGBM] [Fatal] Check failed: (feature_fraction) <= (1.0) at /tmp/pip-install-980pbj3x/lightgbm_3ba115fcc85344d4af4dd9a6e1e7ec36/src/io/config_auto.cpp, line 381 .\n",
      "\n",
      "[LightGBM] [Fatal] Check failed: (feature_fraction) <= (1.0) at /tmp/pip-install-980pbj3x/lightgbm_3ba115fcc85344d4af4dd9a6e1e7ec36/src/io/config_auto.cpp, line 381 .\n",
      "\n",
      "[LightGBM] [Fatal] Check failed: (feature_fraction) <= (1.0) at /tmp/pip-install-980pbj3x/lightgbm_3ba115fcc85344d4af4dd9a6e1e7ec36/src/io/config_auto.cpp, line 381 .\n",
      "\n",
      "[LightGBM] [Fatal] Check failed: (feature_fraction) <= (1.0) at /tmp/pip-install-980pbj3x/lightgbm_3ba115fcc85344d4af4dd9a6e1e7ec36/src/io/config_auto.cpp, line 381 .\n",
      "\n",
      "[LightGBM] [Fatal] Check failed: (feature_fraction) <= (1.0) at /tmp/pip-install-980pbj3x/lightgbm_3ba115fcc85344d4af4dd9a6e1e7ec36/src/io/config_auto.cpp, line 381 .\n",
      "\n",
      "[LightGBM] [Fatal] Check failed: (feature_fraction) <= (1.0) at /tmp/pip-install-980pbj3x/lightgbm_3ba115fcc85344d4af4dd9a6e1e7ec36/src/io/config_auto.cpp, line 381 .\n",
      "\n",
      "[LightGBM] [Fatal] Check failed: (feature_fraction) <= (1.0) at /tmp/pip-install-980pbj3x/lightgbm_3ba115fcc85344d4af4dd9a6e1e7ec36/src/io/config_auto.cpp, line 381 .\n",
      "\n",
      "[LightGBM] [Fatal] Check failed: (feature_fraction) <= (1.0) at /tmp/pip-install-980pbj3x/lightgbm_3ba115fcc85344d4af4dd9a6e1e7ec36/src/io/config_auto.cpp, line 381 .\n",
      "\n",
      "[LightGBM] [Fatal] Check failed: (feature_fraction) <= (1.0) at /tmp/pip-install-980pbj3x/lightgbm_3ba115fcc85344d4af4dd9a6e1e7ec36/src/io/config_auto.cpp, line 381 .\n",
      "\n",
      "[LightGBM] [Fatal] Check failed: (feature_fraction) <= (1.0) at /tmp/pip-install-980pbj3x/lightgbm_3ba115fcc85344d4af4dd9a6e1e7ec36/src/io/config_auto.cpp, line 381 .\n",
      "\n",
      "[LightGBM] [Fatal] Check failed: (feature_fraction) <= (1.0) at /tmp/pip-install-980pbj3x/lightgbm_3ba115fcc85344d4af4dd9a6e1e7ec36/src/io/config_auto.cpp, line 381 .\n",
      "\n",
      "[LightGBM] [Fatal] Check failed: (feature_fraction) <= (1.0) at /tmp/pip-install-980pbj3x/lightgbm_3ba115fcc85344d4af4dd9a6e1e7ec36/src/io/config_auto.cpp, line 381 .\n",
      "\n",
      "[LightGBM] [Fatal] Check failed: (feature_fraction) <= (1.0) at /tmp/pip-install-980pbj3x/lightgbm_3ba115fcc85344d4af4dd9a6e1e7ec36/src/io/config_auto.cpp, line 381 .\n",
      "\n",
      "[LightGBM] [Fatal] Check failed: (feature_fraction) <= (1.0) at /tmp/pip-install-980pbj3x/lightgbm_3ba115fcc85344d4af4dd9a6e1e7ec36/src/io/config_auto.cpp, line 381 .\n",
      "\n",
      "[LightGBM] [Fatal] Check failed: (feature_fraction) <= (1.0) at /tmp/pip-install-980pbj3x/lightgbm_3ba115fcc85344d4af4dd9a6e1e7ec36/src/io/config_auto.cpp, line 381 .\n",
      "\n",
      "[LightGBM] [Fatal] Check failed: (feature_fraction) <= (1.0) at /tmp/pip-install-980pbj3x/lightgbm_3ba115fcc85344d4af4dd9a6e1e7ec36/src/io/config_auto.cpp, line 381 .\n",
      "\n",
      "[LightGBM] [Fatal] Check failed: (feature_fraction) <= (1.0) at /tmp/pip-install-980pbj3x/lightgbm_3ba115fcc85344d4af4dd9a6e1e7ec36/src/io/config_auto.cpp, line 381 .\n",
      "\n",
      "[LightGBM] [Fatal] Check failed: (feature_fraction) <= (1.0) at /tmp/pip-install-980pbj3x/lightgbm_3ba115fcc85344d4af4dd9a6e1e7ec36/src/io/config_auto.cpp, line 381 .\n",
      "\n",
      "[LightGBM] [Fatal] Check failed: (feature_fraction) <= (1.0) at /tmp/pip-install-980pbj3x/lightgbm_3ba115fcc85344d4af4dd9a6e1e7ec36/src/io/config_auto.cpp, line 381 .\n",
      "\n",
      "[LightGBM] [Fatal] Check failed: (feature_fraction) <= (1.0) at /tmp/pip-install-980pbj3x/lightgbm_3ba115fcc85344d4af4dd9a6e1e7ec36/src/io/config_auto.cpp, line 381 .\n",
      "\n",
      "[LightGBM] [Fatal] Check failed: (feature_fraction) <= (1.0) at /tmp/pip-install-980pbj3x/lightgbm_3ba115fcc85344d4af4dd9a6e1e7ec36/src/io/config_auto.cpp, line 381 .\n",
      "\n",
      "[LightGBM] [Fatal] Check failed: (feature_fraction) <= (1.0) at /tmp/pip-install-980pbj3x/lightgbm_3ba115fcc85344d4af4dd9a6e1e7ec36/src/io/config_auto.cpp, line 381 .\n",
      "\n",
      "[LightGBM] [Fatal] Check failed: (feature_fraction) <= (1.0) at /tmp/pip-install-980pbj3x/lightgbm_3ba115fcc85344d4af4dd9a6e1e7ec36/src/io/config_auto.cpp, line 381 .\n",
      "\n",
      "[LightGBM] [Fatal] Check failed: (feature_fraction) <= (1.0) at /tmp/pip-install-980pbj3x/lightgbm_3ba115fcc85344d4af4dd9a6e1e7ec36/src/io/config_auto.cpp, line 381 .\n",
      "\n",
      "[LightGBM] [Fatal] Check failed: (feature_fraction) <= (1.0) at /tmp/pip-install-980pbj3x/lightgbm_3ba115fcc85344d4af4dd9a6e1e7ec36/src/io/config_auto.cpp, line 381 .\n",
      "\n",
      "[LightGBM] [Fatal] Check failed: (feature_fraction) <= (1.0) at /tmp/pip-install-980pbj3x/lightgbm_3ba115fcc85344d4af4dd9a6e1e7ec36/src/io/config_auto.cpp, line 381 .\n",
      "\n",
      "[LightGBM] [Fatal] Check failed: (feature_fraction) <= (1.0) at /tmp/pip-install-980pbj3x/lightgbm_3ba115fcc85344d4af4dd9a6e1e7ec36/src/io/config_auto.cpp, line 381 .\n",
      "\n",
      "[LightGBM] [Fatal] Check failed: (feature_fraction) <= (1.0) at /tmp/pip-install-980pbj3x/lightgbm_3ba115fcc85344d4af4dd9a6e1e7ec36/src/io/config_auto.cpp, line 381 .\n",
      "\n",
      "[LightGBM] [Fatal] Check failed: (feature_fraction) <= (1.0) at /tmp/pip-install-980pbj3x/lightgbm_3ba115fcc85344d4af4dd9a6e1e7ec36/src/io/config_auto.cpp, line 381 .\n",
      "\n",
      "[LightGBM] [Fatal] Check failed: (feature_fraction) <= (1.0) at /tmp/pip-install-980pbj3x/lightgbm_3ba115fcc85344d4af4dd9a6e1e7ec36/src/io/config_auto.cpp, line 381 .\n",
      "\n",
      "[LightGBM] [Fatal] Check failed: (feature_fraction) <= (1.0) at /tmp/pip-install-980pbj3x/lightgbm_3ba115fcc85344d4af4dd9a6e1e7ec36/src/io/config_auto.cpp, line 381 .\n",
      "\n",
      "[LightGBM] [Fatal] Check failed: (feature_fraction) <= (1.0) at /tmp/pip-install-980pbj3x/lightgbm_3ba115fcc85344d4af4dd9a6e1e7ec36/src/io/config_auto.cpp, line 381 .\n",
      "\n",
      "[LightGBM] [Fatal] Check failed: (feature_fraction) <= (1.0) at /tmp/pip-install-980pbj3x/lightgbm_3ba115fcc85344d4af4dd9a6e1e7ec36/src/io/config_auto.cpp, line 381 .\n",
      "\n",
      "[LightGBM] [Fatal] Check failed: (feature_fraction) <= (1.0) at /tmp/pip-install-980pbj3x/lightgbm_3ba115fcc85344d4af4dd9a6e1e7ec36/src/io/config_auto.cpp, line 381 .\n",
      "\n",
      "[LightGBM] [Fatal] Check failed: (feature_fraction) <= (1.0) at /tmp/pip-install-980pbj3x/lightgbm_3ba115fcc85344d4af4dd9a6e1e7ec36/src/io/config_auto.cpp, line 381 .\n",
      "\n",
      "[LightGBM] [Fatal] Check failed: (feature_fraction) <= (1.0) at /tmp/pip-install-980pbj3x/lightgbm_3ba115fcc85344d4af4dd9a6e1e7ec36/src/io/config_auto.cpp, line 381 .\n",
      "\n",
      "[LightGBM] [Fatal] Check failed: (feature_fraction) <= (1.0) at /tmp/pip-install-980pbj3x/lightgbm_3ba115fcc85344d4af4dd9a6e1e7ec36/src/io/config_auto.cpp, line 381 .\n",
      "\n",
      "[LightGBM] [Fatal] Check failed: (feature_fraction) <= (1.0) at /tmp/pip-install-980pbj3x/lightgbm_3ba115fcc85344d4af4dd9a6e1e7ec36/src/io/config_auto.cpp, line 381 .\n",
      "\n",
      "[LightGBM] [Fatal] Check failed: (feature_fraction) <= (1.0) at /tmp/pip-install-980pbj3x/lightgbm_3ba115fcc85344d4af4dd9a6e1e7ec36/src/io/config_auto.cpp, line 381 .\n",
      "\n",
      "[LightGBM] [Fatal] Check failed: (feature_fraction) <= (1.0) at /tmp/pip-install-980pbj3x/lightgbm_3ba115fcc85344d4af4dd9a6e1e7ec36/src/io/config_auto.cpp, line 381 .\n",
      "\n",
      "[LightGBM] [Fatal] Check failed: (feature_fraction) <= (1.0) at /tmp/pip-install-980pbj3x/lightgbm_3ba115fcc85344d4af4dd9a6e1e7ec36/src/io/config_auto.cpp, line 381 .\n",
      "\n",
      "[LightGBM] [Fatal] Check failed: (feature_fraction) <= (1.0) at /tmp/pip-install-980pbj3x/lightgbm_3ba115fcc85344d4af4dd9a6e1e7ec36/src/io/config_auto.cpp, line 381 .\n",
      "\n",
      "[LightGBM] [Fatal] Check failed: (feature_fraction) <= (1.0) at /tmp/pip-install-980pbj3x/lightgbm_3ba115fcc85344d4af4dd9a6e1e7ec36/src/io/config_auto.cpp, line 381 .\n",
      "\n",
      "[LightGBM] [Fatal] Check failed: (feature_fraction) <= (1.0) at /tmp/pip-install-980pbj3x/lightgbm_3ba115fcc85344d4af4dd9a6e1e7ec36/src/io/config_auto.cpp, line 381 .\n",
      "\n",
      "[LightGBM] [Fatal] Check failed: (feature_fraction) <= (1.0) at /tmp/pip-install-980pbj3x/lightgbm_3ba115fcc85344d4af4dd9a6e1e7ec36/src/io/config_auto.cpp, line 381 .\n",
      "\n",
      "[LightGBM] [Fatal] Check failed: (feature_fraction) <= (1.0) at /tmp/pip-install-980pbj3x/lightgbm_3ba115fcc85344d4af4dd9a6e1e7ec36/src/io/config_auto.cpp, line 381 .\n",
      "\n",
      "[LightGBM] [Fatal] Check failed: (feature_fraction) <= (1.0) at /tmp/pip-install-980pbj3x/lightgbm_3ba115fcc85344d4af4dd9a6e1e7ec36/src/io/config_auto.cpp, line 381 .\n",
      "\n",
      "[LightGBM] [Fatal] Check failed: (feature_fraction) <= (1.0) at /tmp/pip-install-980pbj3x/lightgbm_3ba115fcc85344d4af4dd9a6e1e7ec36/src/io/config_auto.cpp, line 381 .\n",
      "\n",
      "[LightGBM] [Fatal] Check failed: (feature_fraction) <= (1.0) at /tmp/pip-install-980pbj3x/lightgbm_3ba115fcc85344d4af4dd9a6e1e7ec36/src/io/config_auto.cpp, line 381 .\n",
      "\n",
      "[LightGBM] [Fatal] Check failed: (feature_fraction) <= (1.0) at /tmp/pip-install-980pbj3x/lightgbm_3ba115fcc85344d4af4dd9a6e1e7ec36/src/io/config_auto.cpp, line 381 .\n",
      "\n",
      "[LightGBM] [Fatal] Check failed: (feature_fraction) <= (1.0) at /tmp/pip-install-980pbj3x/lightgbm_3ba115fcc85344d4af4dd9a6e1e7ec36/src/io/config_auto.cpp, line 381 .\n",
      "\n",
      "[LightGBM] [Fatal] Check failed: (feature_fraction) <= (1.0) at /tmp/pip-install-980pbj3x/lightgbm_3ba115fcc85344d4af4dd9a6e1e7ec36/src/io/config_auto.cpp, line 381 .\n",
      "\n",
      "[LightGBM] [Fatal] Check failed: (feature_fraction) <= (1.0) at /tmp/pip-install-980pbj3x/lightgbm_3ba115fcc85344d4af4dd9a6e1e7ec36/src/io/config_auto.cpp, line 381 .\n",
      "\n",
      "[LightGBM] [Fatal] Check failed: (feature_fraction) <= (1.0) at /tmp/pip-install-980pbj3x/lightgbm_3ba115fcc85344d4af4dd9a6e1e7ec36/src/io/config_auto.cpp, line 381 .\n",
      "\n",
      "[LightGBM] [Fatal] Check failed: (feature_fraction) <= (1.0) at /tmp/pip-install-980pbj3x/lightgbm_3ba115fcc85344d4af4dd9a6e1e7ec36/src/io/config_auto.cpp, line 381 .\n",
      "\n",
      "[LightGBM] [Fatal] Check failed: (feature_fraction) <= (1.0) at /tmp/pip-install-980pbj3x/lightgbm_3ba115fcc85344d4af4dd9a6e1e7ec36/src/io/config_auto.cpp, line 381 .\n",
      "\n",
      "[LightGBM] [Fatal] Check failed: (feature_fraction) <= (1.0) at /tmp/pip-install-980pbj3x/lightgbm_3ba115fcc85344d4af4dd9a6e1e7ec36/src/io/config_auto.cpp, line 381 .\n",
      "\n",
      "[LightGBM] [Fatal] Check failed: (feature_fraction) <= (1.0) at /tmp/pip-install-980pbj3x/lightgbm_3ba115fcc85344d4af4dd9a6e1e7ec36/src/io/config_auto.cpp, line 381 .\n",
      "\n",
      "[LightGBM] [Fatal] Check failed: (feature_fraction) <= (1.0) at /tmp/pip-install-980pbj3x/lightgbm_3ba115fcc85344d4af4dd9a6e1e7ec36/src/io/config_auto.cpp, line 381 .\n",
      "\n",
      "[LightGBM] [Fatal] Check failed: (feature_fraction) <= (1.0) at /tmp/pip-install-980pbj3x/lightgbm_3ba115fcc85344d4af4dd9a6e1e7ec36/src/io/config_auto.cpp, line 381 .\n",
      "\n",
      "[LightGBM] [Fatal] Check failed: (feature_fraction) <= (1.0) at /tmp/pip-install-980pbj3x/lightgbm_3ba115fcc85344d4af4dd9a6e1e7ec36/src/io/config_auto.cpp, line 381 .\n",
      "\n",
      "[LightGBM] [Fatal] Check failed: (feature_fraction) <= (1.0) at /tmp/pip-install-980pbj3x/lightgbm_3ba115fcc85344d4af4dd9a6e1e7ec36/src/io/config_auto.cpp, line 381 .\n",
      "\n",
      "[LightGBM] [Fatal] Check failed: (feature_fraction) <= (1.0) at /tmp/pip-install-980pbj3x/lightgbm_3ba115fcc85344d4af4dd9a6e1e7ec36/src/io/config_auto.cpp, line 381 .\n",
      "\n",
      "[LightGBM] [Fatal] Check failed: (feature_fraction) <= (1.0) at /tmp/pip-install-980pbj3x/lightgbm_3ba115fcc85344d4af4dd9a6e1e7ec36/src/io/config_auto.cpp, line 381 .\n",
      "\n",
      "[LightGBM] [Fatal] Check failed: (feature_fraction) <= (1.0) at /tmp/pip-install-980pbj3x/lightgbm_3ba115fcc85344d4af4dd9a6e1e7ec36/src/io/config_auto.cpp, line 381 .\n",
      "\n",
      "[LightGBM] [Fatal] Check failed: (feature_fraction) <= (1.0) at /tmp/pip-install-980pbj3x/lightgbm_3ba115fcc85344d4af4dd9a6e1e7ec36/src/io/config_auto.cpp, line 381 .\n",
      "\n",
      "[LightGBM] [Fatal] Check failed: (feature_fraction) <= (1.0) at /tmp/pip-install-980pbj3x/lightgbm_3ba115fcc85344d4af4dd9a6e1e7ec36/src/io/config_auto.cpp, line 381 .\n",
      "\n",
      "[LightGBM] [Fatal] Check failed: (feature_fraction) <= (1.0) at /tmp/pip-install-980pbj3x/lightgbm_3ba115fcc85344d4af4dd9a6e1e7ec36/src/io/config_auto.cpp, line 381 .\n",
      "\n",
      "[LightGBM] [Fatal] Check failed: (feature_fraction) <= (1.0) at /tmp/pip-install-980pbj3x/lightgbm_3ba115fcc85344d4af4dd9a6e1e7ec36/src/io/config_auto.cpp, line 381 .\n",
      "\n",
      "[LightGBM] [Fatal] Check failed: (feature_fraction) <= (1.0) at /tmp/pip-install-980pbj3x/lightgbm_3ba115fcc85344d4af4dd9a6e1e7ec36/src/io/config_auto.cpp, line 381 .\n",
      "\n",
      "[LightGBM] [Fatal] Check failed: (feature_fraction) <= (1.0) at /tmp/pip-install-980pbj3x/lightgbm_3ba115fcc85344d4af4dd9a6e1e7ec36/src/io/config_auto.cpp, line 381 .\n",
      "\n",
      "[LightGBM] [Fatal] Check failed: (feature_fraction) <= (1.0) at /tmp/pip-install-980pbj3x/lightgbm_3ba115fcc85344d4af4dd9a6e1e7ec36/src/io/config_auto.cpp, line 381 .\n",
      "\n",
      "[LightGBM] [Fatal] Check failed: (feature_fraction) <= (1.0) at /tmp/pip-install-980pbj3x/lightgbm_3ba115fcc85344d4af4dd9a6e1e7ec36/src/io/config_auto.cpp, line 381 .\n",
      "\n",
      "[LightGBM] [Fatal] Check failed: (feature_fraction) <= (1.0) at /tmp/pip-install-980pbj3x/lightgbm_3ba115fcc85344d4af4dd9a6e1e7ec36/src/io/config_auto.cpp, line 381 .\n",
      "\n",
      "[LightGBM] [Fatal] Check failed: (feature_fraction) <= (1.0) at /tmp/pip-install-980pbj3x/lightgbm_3ba115fcc85344d4af4dd9a6e1e7ec36/src/io/config_auto.cpp, line 381 .\n",
      "\n",
      "[LightGBM] [Fatal] Check failed: (feature_fraction) <= (1.0) at /tmp/pip-install-980pbj3x/lightgbm_3ba115fcc85344d4af4dd9a6e1e7ec36/src/io/config_auto.cpp, line 381 .\n",
      "\n",
      "[LightGBM] [Fatal] Check failed: (feature_fraction) <= (1.0) at /tmp/pip-install-980pbj3x/lightgbm_3ba115fcc85344d4af4dd9a6e1e7ec36/src/io/config_auto.cpp, line 381 .\n",
      "\n",
      "[LightGBM] [Fatal] Check failed: (feature_fraction) <= (1.0) at /tmp/pip-install-980pbj3x/lightgbm_3ba115fcc85344d4af4dd9a6e1e7ec36/src/io/config_auto.cpp, line 381 .\n",
      "\n"
     ]
    },
    {
     "name": "stdout",
     "output_type": "stream",
     "text": [
      "CPU times: user 14h 19min 56s, sys: 7min 31s, total: 14h 27min 28s\n",
      "Wall time: 7h 18min 57s\n"
     ]
    },
    {
     "data": {
      "text/html": [
       "<style>#sk-container-id-4 {color: black;background-color: white;}#sk-container-id-4 pre{padding: 0;}#sk-container-id-4 div.sk-toggleable {background-color: white;}#sk-container-id-4 label.sk-toggleable__label {cursor: pointer;display: block;width: 100%;margin-bottom: 0;padding: 0.3em;box-sizing: border-box;text-align: center;}#sk-container-id-4 label.sk-toggleable__label-arrow:before {content: \"▸\";float: left;margin-right: 0.25em;color: #696969;}#sk-container-id-4 label.sk-toggleable__label-arrow:hover:before {color: black;}#sk-container-id-4 div.sk-estimator:hover label.sk-toggleable__label-arrow:before {color: black;}#sk-container-id-4 div.sk-toggleable__content {max-height: 0;max-width: 0;overflow: hidden;text-align: left;background-color: #f0f8ff;}#sk-container-id-4 div.sk-toggleable__content pre {margin: 0.2em;color: black;border-radius: 0.25em;background-color: #f0f8ff;}#sk-container-id-4 input.sk-toggleable__control:checked~div.sk-toggleable__content {max-height: 200px;max-width: 100%;overflow: auto;}#sk-container-id-4 input.sk-toggleable__control:checked~label.sk-toggleable__label-arrow:before {content: \"▾\";}#sk-container-id-4 div.sk-estimator input.sk-toggleable__control:checked~label.sk-toggleable__label {background-color: #d4ebff;}#sk-container-id-4 div.sk-label input.sk-toggleable__control:checked~label.sk-toggleable__label {background-color: #d4ebff;}#sk-container-id-4 input.sk-hidden--visually {border: 0;clip: rect(1px 1px 1px 1px);clip: rect(1px, 1px, 1px, 1px);height: 1px;margin: -1px;overflow: hidden;padding: 0;position: absolute;width: 1px;}#sk-container-id-4 div.sk-estimator {font-family: monospace;background-color: #f0f8ff;border: 1px dotted black;border-radius: 0.25em;box-sizing: border-box;margin-bottom: 0.5em;}#sk-container-id-4 div.sk-estimator:hover {background-color: #d4ebff;}#sk-container-id-4 div.sk-parallel-item::after {content: \"\";width: 100%;border-bottom: 1px solid gray;flex-grow: 1;}#sk-container-id-4 div.sk-label:hover label.sk-toggleable__label {background-color: #d4ebff;}#sk-container-id-4 div.sk-serial::before {content: \"\";position: absolute;border-left: 1px solid gray;box-sizing: border-box;top: 0;bottom: 0;left: 50%;z-index: 0;}#sk-container-id-4 div.sk-serial {display: flex;flex-direction: column;align-items: center;background-color: white;padding-right: 0.2em;padding-left: 0.2em;position: relative;}#sk-container-id-4 div.sk-item {position: relative;z-index: 1;}#sk-container-id-4 div.sk-parallel {display: flex;align-items: stretch;justify-content: center;background-color: white;position: relative;}#sk-container-id-4 div.sk-item::before, #sk-container-id-4 div.sk-parallel-item::before {content: \"\";position: absolute;border-left: 1px solid gray;box-sizing: border-box;top: 0;bottom: 0;left: 50%;z-index: -1;}#sk-container-id-4 div.sk-parallel-item {display: flex;flex-direction: column;z-index: 1;position: relative;background-color: white;}#sk-container-id-4 div.sk-parallel-item:first-child::after {align-self: flex-end;width: 50%;}#sk-container-id-4 div.sk-parallel-item:last-child::after {align-self: flex-start;width: 50%;}#sk-container-id-4 div.sk-parallel-item:only-child::after {width: 0;}#sk-container-id-4 div.sk-dashed-wrapped {border: 1px dashed gray;margin: 0 0.4em 0.5em 0.4em;box-sizing: border-box;padding-bottom: 0.4em;background-color: white;}#sk-container-id-4 div.sk-label label {font-family: monospace;font-weight: bold;display: inline-block;line-height: 1.2em;}#sk-container-id-4 div.sk-label-container {text-align: center;}#sk-container-id-4 div.sk-container {/* jupyter's `normalize.less` sets `[hidden] { display: none; }` but bootstrap.min.css set `[hidden] { display: none !important; }` so we also need the `!important` here to be able to override the default hidden behavior on the sphinx rendered scikit-learn.org. See: https://github.com/scikit-learn/scikit-learn/issues/21755 */display: inline-block !important;position: relative;}#sk-container-id-4 div.sk-text-repr-fallback {display: none;}</style><div id=\"sk-container-id-4\" class=\"sk-top-container\"><div class=\"sk-text-repr-fallback\"><pre>RandomizedSearchCV(cv=2, estimator=LGBMClassifier(), n_iter=1000,\n",
       "                   param_distributions={&#x27;bagging_freq&#x27;: &lt;scipy.stats._distn_infrastructure.rv_discrete_frozen object at 0x7f89df07c990&gt;,\n",
       "                                        &#x27;feature_fraction&#x27;: &lt;scipy.stats._distn_infrastructure.rv_continuous_frozen object at 0x7f89df07d510&gt;,\n",
       "                                        &#x27;learning_rate&#x27;: &lt;scipy.stats._distn_infrastructure.rv_continuous_frozen objec...\n",
       "                                        &#x27;min_split_gain&#x27;: &lt;scipy.stats._distn_infrastructure.rv_continuous_frozen object at 0x7f89df07dc90&gt;,\n",
       "                                        &#x27;n_estimators&#x27;: &lt;scipy.stats._distn_infrastructure.rv_discrete_frozen object at 0x7f89df07fe90&gt;,\n",
       "                                        &#x27;num_leaves&#x27;: &lt;scipy.stats._distn_infrastructure.rv_discrete_frozen object at 0x7f89df07d9d0&gt;,\n",
       "                                        &#x27;random_state&#x27;: [777],\n",
       "                                        &#x27;verbosity&#x27;: [-1]},\n",
       "                   scoring=make_scorer(recall_score))</pre><b>In a Jupyter environment, please rerun this cell to show the HTML representation or trust the notebook. <br />On GitHub, the HTML representation is unable to render, please try loading this page with nbviewer.org.</b></div><div class=\"sk-container\" hidden><div class=\"sk-item sk-dashed-wrapped\"><div class=\"sk-label-container\"><div class=\"sk-label sk-toggleable\"><input class=\"sk-toggleable__control sk-hidden--visually\" id=\"sk-estimator-id-10\" type=\"checkbox\" ><label for=\"sk-estimator-id-10\" class=\"sk-toggleable__label sk-toggleable__label-arrow\">RandomizedSearchCV</label><div class=\"sk-toggleable__content\"><pre>RandomizedSearchCV(cv=2, estimator=LGBMClassifier(), n_iter=1000,\n",
       "                   param_distributions={&#x27;bagging_freq&#x27;: &lt;scipy.stats._distn_infrastructure.rv_discrete_frozen object at 0x7f89df07c990&gt;,\n",
       "                                        &#x27;feature_fraction&#x27;: &lt;scipy.stats._distn_infrastructure.rv_continuous_frozen object at 0x7f89df07d510&gt;,\n",
       "                                        &#x27;learning_rate&#x27;: &lt;scipy.stats._distn_infrastructure.rv_continuous_frozen objec...\n",
       "                                        &#x27;min_split_gain&#x27;: &lt;scipy.stats._distn_infrastructure.rv_continuous_frozen object at 0x7f89df07dc90&gt;,\n",
       "                                        &#x27;n_estimators&#x27;: &lt;scipy.stats._distn_infrastructure.rv_discrete_frozen object at 0x7f89df07fe90&gt;,\n",
       "                                        &#x27;num_leaves&#x27;: &lt;scipy.stats._distn_infrastructure.rv_discrete_frozen object at 0x7f89df07d9d0&gt;,\n",
       "                                        &#x27;random_state&#x27;: [777],\n",
       "                                        &#x27;verbosity&#x27;: [-1]},\n",
       "                   scoring=make_scorer(recall_score))</pre></div></div></div><div class=\"sk-parallel\"><div class=\"sk-parallel-item\"><div class=\"sk-item\"><div class=\"sk-label-container\"><div class=\"sk-label sk-toggleable\"><input class=\"sk-toggleable__control sk-hidden--visually\" id=\"sk-estimator-id-11\" type=\"checkbox\" ><label for=\"sk-estimator-id-11\" class=\"sk-toggleable__label sk-toggleable__label-arrow\">estimator: LGBMClassifier</label><div class=\"sk-toggleable__content\"><pre>LGBMClassifier()</pre></div></div></div><div class=\"sk-serial\"><div class=\"sk-item\"><div class=\"sk-estimator sk-toggleable\"><input class=\"sk-toggleable__control sk-hidden--visually\" id=\"sk-estimator-id-12\" type=\"checkbox\" ><label for=\"sk-estimator-id-12\" class=\"sk-toggleable__label sk-toggleable__label-arrow\">LGBMClassifier</label><div class=\"sk-toggleable__content\"><pre>LGBMClassifier()</pre></div></div></div></div></div></div></div></div></div></div>"
      ],
      "text/plain": [
       "RandomizedSearchCV(cv=2, estimator=LGBMClassifier(), n_iter=1000,\n",
       "                   param_distributions={'bagging_freq': <scipy.stats._distn_infrastructure.rv_discrete_frozen object at 0x7f89df07c990>,\n",
       "                                        'feature_fraction': <scipy.stats._distn_infrastructure.rv_continuous_frozen object at 0x7f89df07d510>,\n",
       "                                        'learning_rate': <scipy.stats._distn_infrastructure.rv_continuous_frozen objec...\n",
       "                                        'min_split_gain': <scipy.stats._distn_infrastructure.rv_continuous_frozen object at 0x7f89df07dc90>,\n",
       "                                        'n_estimators': <scipy.stats._distn_infrastructure.rv_discrete_frozen object at 0x7f89df07fe90>,\n",
       "                                        'num_leaves': <scipy.stats._distn_infrastructure.rv_discrete_frozen object at 0x7f89df07d9d0>,\n",
       "                                        'random_state': [777],\n",
       "                                        'verbosity': [-1]},\n",
       "                   scoring=make_scorer(recall_score))"
      ]
     },
     "execution_count": 94,
     "metadata": {},
     "output_type": "execute_result"
    }
   ],
   "source": [
    "%%time\n",
    "# Import 'GridSearchCV', 'make_scorer', and any other necessary libraries\n",
    "from sklearn.model_selection import GridSearchCV, RandomizedSearchCV\n",
    "from sklearn.metrics import make_scorer \n",
    "from scipy.stats import uniform, truncnorm, randint\n",
    "\n",
    "# Create the parameters list you wish to tune\n",
    "parameters = {'n_estimators':randint(0, 1000),\n",
    "              'num_leaves': randint(2, 512),\n",
    "              'max_depth': randint(2, 128),\n",
    "              'learning_rate':uniform(0.001, 0.15),\n",
    "              'min_split_gain': uniform(0.001, 0.1),\n",
    "              'feature_fraction': uniform(0.1, 1.0),\n",
    "              'bagging_freq': randint(1,10),\n",
    "              'verbosity': [-1],\n",
    "              'random_state':[777]\n",
    "             } \n",
    "\n",
    "# Make an fbeta_score scoring object\n",
    "scorer = make_scorer(recall_score) \n",
    "\n",
    "\n",
    "# TODO: Perform grid search on the classifier using 'scorer' as the scoring method\n",
    "gridsearch = RandomizedSearchCV(lgbm_model, param_distributions = parameters, cv=2, n_iter=1000, scoring=scorer)\n",
    "\n",
    "# TODO: Fit the grid search object to the training data and find the optimal parameters\n",
    "\n",
    "gridsearch.fit(X_train, y_train)\n"
   ]
  },
  {
   "cell_type": "code",
   "execution_count": 96,
   "id": "4da5a9dc-e854-4a06-8d9f-87e422394e0e",
   "metadata": {
    "tags": []
   },
   "outputs": [
    {
     "data": {
      "text/plain": [
       "0.20056187417450916"
      ]
     },
     "execution_count": 96,
     "metadata": {},
     "output_type": "execute_result"
    }
   ],
   "source": [
    "gridsearch.best_score_"
   ]
  },
  {
   "cell_type": "code",
   "execution_count": 109,
   "id": "8137ab8e-f2c0-439c-a935-8b7e1b8a41d5",
   "metadata": {
    "tags": []
   },
   "outputs": [
    {
     "data": {
      "text/plain": [
       "{'bagging_freq': 9,\n",
       " 'feature_fraction': 0.8868734928852935,\n",
       " 'learning_rate': 0.14008271018554203,\n",
       " 'max_depth': 59,\n",
       " 'min_split_gain': 0.05123048228199154,\n",
       " 'n_estimators': 876,\n",
       " 'num_leaves': 16,\n",
       " 'random_state': 777,\n",
       " 'verbosity': -1}"
      ]
     },
     "execution_count": 109,
     "metadata": {},
     "output_type": "execute_result"
    }
   ],
   "source": [
    "gridsearch.best_params_"
   ]
  },
  {
   "cell_type": "markdown",
   "id": "8a8e762b-e3cd-467a-a13b-aa820f0b579e",
   "metadata": {
    "tags": []
   },
   "source": [
    "## Model with best parameters"
   ]
  },
  {
   "cell_type": "code",
   "execution_count": 110,
   "id": "ea57b93f-88d0-4c15-b947-bb87db2f41a4",
   "metadata": {
    "tags": []
   },
   "outputs": [
    {
     "name": "stdout",
     "output_type": "stream",
     "text": [
      "Recall-score = 0.2048909451421018, F1-score = 0.30097087378640774\n"
     ]
    },
    {
     "data": {
      "image/png": "[encoded data removed]",
      "text/plain": [
       "<Figure size 640x480 with 2 Axes>"
      ]
     },
     "metadata": {},
     "output_type": "display_data"
    }
   ],
   "source": [
    "lgbm_model = LGBMClassifier(\n",
    "    bagging_freq= 9,\n",
    "    feature_fraction = 0.8868734928852935,\n",
    "     learning_rate = 0.14008271018554203,\n",
    "     max_depth = 59,\n",
    "     min_split_gain = 0.05123048228199154,\n",
    "     n_estimators = 876,\n",
    "     num_leaves = 16,\n",
    "     random_state = 777,\n",
    "     verbosity = -1)\n",
    "\n",
    "lgbm_model.fit(X_train, y_train)\n",
    "\n",
    "y_pred = lgbm_model.predict(X_test)\n",
    "\n",
    "ConfusionMatrixDisplay(confusion_matrix(y_test, y_pred)).plot()\n",
    "\n",
    "print(f\"Recall-score = {recall_score(y_test, y_pred) }, F1-score = {f1_score(y_test, y_pred)}\")\n",
    "\n",
    "\n"
   ]
  },
  {
   "cell_type": "code",
   "execution_count": 116,
   "id": "e203ed96-bf3d-4131-9f5b-3b094c8ad739",
   "metadata": {
    "tags": []
   },
   "outputs": [
    {
     "name": "stdout",
     "output_type": "stream",
     "text": [
      "Recall-score = 0.12029081295439524, F1-score = 0.18543046357615894\n"
     ]
    },
    {
     "data": {
      "image/png": "[encoded data removed]",
      "text/plain": [
       "<Figure size 640x480 with 2 Axes>"
      ]
     },
     "metadata": {},
     "output_type": "display_data"
    }
   ],
   "source": [
    "model = KNeighborsClassifier(metric='chebyshev')\n",
    "\n",
    "model.fit(X_train.fillna(0).replace([np.inf, -np.inf], 0, inplace=False), y_train)\n",
    "\n",
    "y_pred = model.predict(X_test.fillna(0).replace([np.inf, -np.inf], 0, inplace=False))\n",
    "\n",
    "ConfusionMatrixDisplay(confusion_matrix(y_test.fillna(0).replace([np.inf, -np.inf], 0, inplace=False), y_pred)).plot()\n",
    "\n",
    "print(f\"Recall-score = {recall_score(y_test.fillna(0).replace([np.inf, -np.inf], 0, inplace=False), y_pred) }, F1-score = {f1_score(y_test.fillna(0).replace([np.inf, -np.inf], 0, inplace=False), y_pred)}\")\n",
    "\n"
   ]
  },
  {
   "cell_type": "code",
   "execution_count": 117,
   "id": "2494ea55-49ed-4bbd-a8e3-3606f3fbae56",
   "metadata": {
    "tags": []
   },
   "outputs": [
    {
     "ename": "MemoryError",
     "evalue": "Unable to allocate 1.00 GiB for an array with shape (1238, 108394) and data type int64",
     "output_type": "error",
     "traceback": [
      "\u001b[0;31m---------------------------------------------------------------------------\u001b[0m",
      "\u001b[0;31mMemoryError\u001b[0m                               Traceback (most recent call last)",
      "Cell \u001b[0;32mIn[117], line 5\u001b[0m\n\u001b[1;32m      1\u001b[0m model \u001b[38;5;241m=\u001b[39m KNeighborsClassifier(metric\u001b[38;5;241m=\u001b[39m\u001b[38;5;124m'\u001b[39m\u001b[38;5;124mcosine\u001b[39m\u001b[38;5;124m'\u001b[39m)\n\u001b[1;32m      3\u001b[0m model\u001b[38;5;241m.\u001b[39mfit(X_train\u001b[38;5;241m.\u001b[39mfillna(\u001b[38;5;241m0\u001b[39m)\u001b[38;5;241m.\u001b[39mreplace([np\u001b[38;5;241m.\u001b[39minf, \u001b[38;5;241m-\u001b[39mnp\u001b[38;5;241m.\u001b[39minf], \u001b[38;5;241m0\u001b[39m, inplace\u001b[38;5;241m=\u001b[39m\u001b[38;5;28;01mFalse\u001b[39;00m), y_train)\n\u001b[0;32m----> 5\u001b[0m y_pred \u001b[38;5;241m=\u001b[39m \u001b[43mmodel\u001b[49m\u001b[38;5;241;43m.\u001b[39;49m\u001b[43mpredict\u001b[49m\u001b[43m(\u001b[49m\u001b[43mX_test\u001b[49m\u001b[38;5;241;43m.\u001b[39;49m\u001b[43mfillna\u001b[49m\u001b[43m(\u001b[49m\u001b[38;5;241;43m0\u001b[39;49m\u001b[43m)\u001b[49m\u001b[38;5;241;43m.\u001b[39;49m\u001b[43mreplace\u001b[49m\u001b[43m(\u001b[49m\u001b[43m[\u001b[49m\u001b[43mnp\u001b[49m\u001b[38;5;241;43m.\u001b[39;49m\u001b[43minf\u001b[49m\u001b[43m,\u001b[49m\u001b[43m \u001b[49m\u001b[38;5;241;43m-\u001b[39;49m\u001b[43mnp\u001b[49m\u001b[38;5;241;43m.\u001b[39;49m\u001b[43minf\u001b[49m\u001b[43m]\u001b[49m\u001b[43m,\u001b[49m\u001b[43m \u001b[49m\u001b[38;5;241;43m0\u001b[39;49m\u001b[43m,\u001b[49m\u001b[43m \u001b[49m\u001b[43minplace\u001b[49m\u001b[38;5;241;43m=\u001b[39;49m\u001b[38;5;28;43;01mFalse\u001b[39;49;00m\u001b[43m)\u001b[49m\u001b[43m)\u001b[49m\n\u001b[1;32m      7\u001b[0m ConfusionMatrixDisplay(confusion_matrix(y_test\u001b[38;5;241m.\u001b[39mfillna(\u001b[38;5;241m0\u001b[39m)\u001b[38;5;241m.\u001b[39mreplace([np\u001b[38;5;241m.\u001b[39minf, \u001b[38;5;241m-\u001b[39mnp\u001b[38;5;241m.\u001b[39minf], \u001b[38;5;241m0\u001b[39m, inplace\u001b[38;5;241m=\u001b[39m\u001b[38;5;28;01mFalse\u001b[39;00m), y_pred))\u001b[38;5;241m.\u001b[39mplot()\n\u001b[1;32m      9\u001b[0m \u001b[38;5;28mprint\u001b[39m(\u001b[38;5;124mf\u001b[39m\u001b[38;5;124m\"\u001b[39m\u001b[38;5;124mRecall-score = \u001b[39m\u001b[38;5;132;01m{\u001b[39;00mrecall_score(y_test\u001b[38;5;241m.\u001b[39mfillna(\u001b[38;5;241m0\u001b[39m)\u001b[38;5;241m.\u001b[39mreplace([np\u001b[38;5;241m.\u001b[39minf,\u001b[38;5;250m \u001b[39m\u001b[38;5;241m-\u001b[39mnp\u001b[38;5;241m.\u001b[39minf],\u001b[38;5;250m \u001b[39m\u001b[38;5;241m0\u001b[39m,\u001b[38;5;250m \u001b[39minplace\u001b[38;5;241m=\u001b[39m\u001b[38;5;28;01mFalse\u001b[39;00m),\u001b[38;5;250m \u001b[39my_pred)\u001b[38;5;250m \u001b[39m\u001b[38;5;132;01m}\u001b[39;00m\u001b[38;5;124m, F1-score = \u001b[39m\u001b[38;5;132;01m{\u001b[39;00mf1_score(y_test\u001b[38;5;241m.\u001b[39mfillna(\u001b[38;5;241m0\u001b[39m)\u001b[38;5;241m.\u001b[39mreplace([np\u001b[38;5;241m.\u001b[39minf,\u001b[38;5;250m \u001b[39m\u001b[38;5;241m-\u001b[39mnp\u001b[38;5;241m.\u001b[39minf],\u001b[38;5;250m \u001b[39m\u001b[38;5;241m0\u001b[39m,\u001b[38;5;250m \u001b[39minplace\u001b[38;5;241m=\u001b[39m\u001b[38;5;28;01mFalse\u001b[39;00m),\u001b[38;5;250m \u001b[39my_pred)\u001b[38;5;132;01m}\u001b[39;00m\u001b[38;5;124m\"\u001b[39m)\n",
      "File \u001b[0;32m~/.venv/lib/python3.11/site-packages/sklearn/neighbors/_classification.py:234\u001b[0m, in \u001b[0;36mKNeighborsClassifier.predict\u001b[0;34m(self, X)\u001b[0m\n\u001b[1;32m    218\u001b[0m \u001b[38;5;250m\u001b[39m\u001b[38;5;124;03m\"\"\"Predict the class labels for the provided data.\u001b[39;00m\n\u001b[1;32m    219\u001b[0m \n\u001b[1;32m    220\u001b[0m \u001b[38;5;124;03mParameters\u001b[39;00m\n\u001b[0;32m   (...)\u001b[0m\n\u001b[1;32m    229\u001b[0m \u001b[38;5;124;03m    Class labels for each data sample.\u001b[39;00m\n\u001b[1;32m    230\u001b[0m \u001b[38;5;124;03m\"\"\"\u001b[39;00m\n\u001b[1;32m    231\u001b[0m \u001b[38;5;28;01mif\u001b[39;00m \u001b[38;5;28mself\u001b[39m\u001b[38;5;241m.\u001b[39mweights \u001b[38;5;241m==\u001b[39m \u001b[38;5;124m\"\u001b[39m\u001b[38;5;124muniform\u001b[39m\u001b[38;5;124m\"\u001b[39m:\n\u001b[1;32m    232\u001b[0m     \u001b[38;5;66;03m# In that case, we do not need the distances to perform\u001b[39;00m\n\u001b[1;32m    233\u001b[0m     \u001b[38;5;66;03m# the weighting so we do not compute them.\u001b[39;00m\n\u001b[0;32m--> 234\u001b[0m     neigh_ind \u001b[38;5;241m=\u001b[39m \u001b[38;5;28;43mself\u001b[39;49m\u001b[38;5;241;43m.\u001b[39;49m\u001b[43mkneighbors\u001b[49m\u001b[43m(\u001b[49m\u001b[43mX\u001b[49m\u001b[43m,\u001b[49m\u001b[43m \u001b[49m\u001b[43mreturn_distance\u001b[49m\u001b[38;5;241;43m=\u001b[39;49m\u001b[38;5;28;43;01mFalse\u001b[39;49;00m\u001b[43m)\u001b[49m\n\u001b[1;32m    235\u001b[0m     neigh_dist \u001b[38;5;241m=\u001b[39m \u001b[38;5;28;01mNone\u001b[39;00m\n\u001b[1;32m    236\u001b[0m \u001b[38;5;28;01melse\u001b[39;00m:\n",
      "File \u001b[0;32m~/.venv/lib/python3.11/site-packages/sklearn/neighbors/_base.py:861\u001b[0m, in \u001b[0;36mKNeighborsMixin.kneighbors\u001b[0;34m(self, X, n_neighbors, return_distance)\u001b[0m\n\u001b[1;32m    858\u001b[0m     \u001b[38;5;28;01melse\u001b[39;00m:\n\u001b[1;32m    859\u001b[0m         kwds \u001b[38;5;241m=\u001b[39m \u001b[38;5;28mself\u001b[39m\u001b[38;5;241m.\u001b[39meffective_metric_params_\n\u001b[0;32m--> 861\u001b[0m     chunked_results \u001b[38;5;241m=\u001b[39m \u001b[38;5;28;43mlist\u001b[39;49m\u001b[43m(\u001b[49m\n\u001b[1;32m    862\u001b[0m \u001b[43m        \u001b[49m\u001b[43mpairwise_distances_chunked\u001b[49m\u001b[43m(\u001b[49m\n\u001b[1;32m    863\u001b[0m \u001b[43m            \u001b[49m\u001b[43mX\u001b[49m\u001b[43m,\u001b[49m\n\u001b[1;32m    864\u001b[0m \u001b[43m            \u001b[49m\u001b[38;5;28;43mself\u001b[39;49m\u001b[38;5;241;43m.\u001b[39;49m\u001b[43m_fit_X\u001b[49m\u001b[43m,\u001b[49m\n\u001b[1;32m    865\u001b[0m \u001b[43m            \u001b[49m\u001b[43mreduce_func\u001b[49m\u001b[38;5;241;43m=\u001b[39;49m\u001b[43mreduce_func\u001b[49m\u001b[43m,\u001b[49m\n\u001b[1;32m    866\u001b[0m \u001b[43m            \u001b[49m\u001b[43mmetric\u001b[49m\u001b[38;5;241;43m=\u001b[39;49m\u001b[38;5;28;43mself\u001b[39;49m\u001b[38;5;241;43m.\u001b[39;49m\u001b[43meffective_metric_\u001b[49m\u001b[43m,\u001b[49m\n\u001b[1;32m    867\u001b[0m \u001b[43m            \u001b[49m\u001b[43mn_jobs\u001b[49m\u001b[38;5;241;43m=\u001b[39;49m\u001b[43mn_jobs\u001b[49m\u001b[43m,\u001b[49m\n\u001b[1;32m    868\u001b[0m \u001b[43m            \u001b[49m\u001b[38;5;241;43m*\u001b[39;49m\u001b[38;5;241;43m*\u001b[39;49m\u001b[43mkwds\u001b[49m\u001b[43m,\u001b[49m\n\u001b[1;32m    869\u001b[0m \u001b[43m        \u001b[49m\u001b[43m)\u001b[49m\n\u001b[1;32m    870\u001b[0m \u001b[43m    \u001b[49m\u001b[43m)\u001b[49m\n\u001b[1;32m    872\u001b[0m \u001b[38;5;28;01melif\u001b[39;00m \u001b[38;5;28mself\u001b[39m\u001b[38;5;241m.\u001b[39m_fit_method \u001b[38;5;129;01min\u001b[39;00m [\u001b[38;5;124m\"\u001b[39m\u001b[38;5;124mball_tree\u001b[39m\u001b[38;5;124m\"\u001b[39m, \u001b[38;5;124m\"\u001b[39m\u001b[38;5;124mkd_tree\u001b[39m\u001b[38;5;124m\"\u001b[39m]:\n\u001b[1;32m    873\u001b[0m     \u001b[38;5;28;01mif\u001b[39;00m issparse(X):\n",
      "File \u001b[0;32m~/.venv/lib/python3.11/site-packages/sklearn/metrics/pairwise.py:1876\u001b[0m, in \u001b[0;36mpairwise_distances_chunked\u001b[0;34m(X, Y, reduce_func, metric, n_jobs, working_memory, **kwds)\u001b[0m\n\u001b[1;32m   1874\u001b[0m \u001b[38;5;28;01mif\u001b[39;00m reduce_func \u001b[38;5;129;01mis\u001b[39;00m \u001b[38;5;129;01mnot\u001b[39;00m \u001b[38;5;28;01mNone\u001b[39;00m:\n\u001b[1;32m   1875\u001b[0m     chunk_size \u001b[38;5;241m=\u001b[39m D_chunk\u001b[38;5;241m.\u001b[39mshape[\u001b[38;5;241m0\u001b[39m]\n\u001b[0;32m-> 1876\u001b[0m     D_chunk \u001b[38;5;241m=\u001b[39m \u001b[43mreduce_func\u001b[49m\u001b[43m(\u001b[49m\u001b[43mD_chunk\u001b[49m\u001b[43m,\u001b[49m\u001b[43m \u001b[49m\u001b[43msl\u001b[49m\u001b[38;5;241;43m.\u001b[39;49m\u001b[43mstart\u001b[49m\u001b[43m)\u001b[49m\n\u001b[1;32m   1877\u001b[0m     _check_chunk_size(D_chunk, chunk_size)\n\u001b[1;32m   1878\u001b[0m \u001b[38;5;28;01myield\u001b[39;00m D_chunk\n",
      "File \u001b[0;32m~/.venv/lib/python3.11/site-packages/sklearn/neighbors/_base.py:719\u001b[0m, in \u001b[0;36mKNeighborsMixin._kneighbors_reduce_func\u001b[0;34m(self, dist, start, n_neighbors, return_distance)\u001b[0m\n\u001b[1;32m    692\u001b[0m \u001b[38;5;250m\u001b[39m\u001b[38;5;124;03m\"\"\"Reduce a chunk of distances to the nearest neighbors.\u001b[39;00m\n\u001b[1;32m    693\u001b[0m \n\u001b[1;32m    694\u001b[0m \u001b[38;5;124;03mCallback to :func:`sklearn.metrics.pairwise.pairwise_distances_chunked`\u001b[39;00m\n\u001b[0;32m   (...)\u001b[0m\n\u001b[1;32m    716\u001b[0m \u001b[38;5;124;03m    The neighbors indices.\u001b[39;00m\n\u001b[1;32m    717\u001b[0m \u001b[38;5;124;03m\"\"\"\u001b[39;00m\n\u001b[1;32m    718\u001b[0m sample_range \u001b[38;5;241m=\u001b[39m np\u001b[38;5;241m.\u001b[39marange(dist\u001b[38;5;241m.\u001b[39mshape[\u001b[38;5;241m0\u001b[39m])[:, \u001b[38;5;28;01mNone\u001b[39;00m]\n\u001b[0;32m--> 719\u001b[0m neigh_ind \u001b[38;5;241m=\u001b[39m \u001b[43mnp\u001b[49m\u001b[38;5;241;43m.\u001b[39;49m\u001b[43margpartition\u001b[49m\u001b[43m(\u001b[49m\u001b[43mdist\u001b[49m\u001b[43m,\u001b[49m\u001b[43m \u001b[49m\u001b[43mn_neighbors\u001b[49m\u001b[43m \u001b[49m\u001b[38;5;241;43m-\u001b[39;49m\u001b[43m \u001b[49m\u001b[38;5;241;43m1\u001b[39;49m\u001b[43m,\u001b[49m\u001b[43m \u001b[49m\u001b[43maxis\u001b[49m\u001b[38;5;241;43m=\u001b[39;49m\u001b[38;5;241;43m1\u001b[39;49m\u001b[43m)\u001b[49m\n\u001b[1;32m    720\u001b[0m neigh_ind \u001b[38;5;241m=\u001b[39m neigh_ind[:, :n_neighbors]\n\u001b[1;32m    721\u001b[0m \u001b[38;5;66;03m# argpartition doesn't guarantee sorted order, so we sort again\u001b[39;00m\n",
      "File \u001b[0;32m<__array_function__ internals>:180\u001b[0m, in \u001b[0;36margpartition\u001b[0;34m(*args, **kwargs)\u001b[0m\n",
      "File \u001b[0;32m~/.venv/lib/python3.11/site-packages/numpy/core/fromnumeric.py:845\u001b[0m, in \u001b[0;36margpartition\u001b[0;34m(a, kth, axis, kind, order)\u001b[0m\n\u001b[1;32m    766\u001b[0m \u001b[38;5;129m@array_function_dispatch\u001b[39m(_argpartition_dispatcher)\n\u001b[1;32m    767\u001b[0m \u001b[38;5;28;01mdef\u001b[39;00m \u001b[38;5;21margpartition\u001b[39m(a, kth, axis\u001b[38;5;241m=\u001b[39m\u001b[38;5;241m-\u001b[39m\u001b[38;5;241m1\u001b[39m, kind\u001b[38;5;241m=\u001b[39m\u001b[38;5;124m'\u001b[39m\u001b[38;5;124mintroselect\u001b[39m\u001b[38;5;124m'\u001b[39m, order\u001b[38;5;241m=\u001b[39m\u001b[38;5;28;01mNone\u001b[39;00m):\n\u001b[1;32m    768\u001b[0m \u001b[38;5;250m    \u001b[39m\u001b[38;5;124;03m\"\"\"\u001b[39;00m\n\u001b[1;32m    769\u001b[0m \u001b[38;5;124;03m    Perform an indirect partition along the given axis using the\u001b[39;00m\n\u001b[1;32m    770\u001b[0m \u001b[38;5;124;03m    algorithm specified by the `kind` keyword. It returns an array of\u001b[39;00m\n\u001b[0;32m   (...)\u001b[0m\n\u001b[1;32m    843\u001b[0m \n\u001b[1;32m    844\u001b[0m \u001b[38;5;124;03m    \"\"\"\u001b[39;00m\n\u001b[0;32m--> 845\u001b[0m     \u001b[38;5;28;01mreturn\u001b[39;00m \u001b[43m_wrapfunc\u001b[49m\u001b[43m(\u001b[49m\u001b[43ma\u001b[49m\u001b[43m,\u001b[49m\u001b[43m \u001b[49m\u001b[38;5;124;43m'\u001b[39;49m\u001b[38;5;124;43margpartition\u001b[39;49m\u001b[38;5;124;43m'\u001b[39;49m\u001b[43m,\u001b[49m\u001b[43m \u001b[49m\u001b[43mkth\u001b[49m\u001b[43m,\u001b[49m\u001b[43m \u001b[49m\u001b[43maxis\u001b[49m\u001b[38;5;241;43m=\u001b[39;49m\u001b[43maxis\u001b[49m\u001b[43m,\u001b[49m\u001b[43m \u001b[49m\u001b[43mkind\u001b[49m\u001b[38;5;241;43m=\u001b[39;49m\u001b[43mkind\u001b[49m\u001b[43m,\u001b[49m\u001b[43m \u001b[49m\u001b[43morder\u001b[49m\u001b[38;5;241;43m=\u001b[39;49m\u001b[43morder\u001b[49m\u001b[43m)\u001b[49m\n",
      "File \u001b[0;32m~/.venv/lib/python3.11/site-packages/numpy/core/fromnumeric.py:57\u001b[0m, in \u001b[0;36m_wrapfunc\u001b[0;34m(obj, method, *args, **kwds)\u001b[0m\n\u001b[1;32m     54\u001b[0m     \u001b[38;5;28;01mreturn\u001b[39;00m _wrapit(obj, method, \u001b[38;5;241m*\u001b[39margs, \u001b[38;5;241m*\u001b[39m\u001b[38;5;241m*\u001b[39mkwds)\n\u001b[1;32m     56\u001b[0m \u001b[38;5;28;01mtry\u001b[39;00m:\n\u001b[0;32m---> 57\u001b[0m     \u001b[38;5;28;01mreturn\u001b[39;00m \u001b[43mbound\u001b[49m\u001b[43m(\u001b[49m\u001b[38;5;241;43m*\u001b[39;49m\u001b[43margs\u001b[49m\u001b[43m,\u001b[49m\u001b[43m \u001b[49m\u001b[38;5;241;43m*\u001b[39;49m\u001b[38;5;241;43m*\u001b[39;49m\u001b[43mkwds\u001b[49m\u001b[43m)\u001b[49m\n\u001b[1;32m     58\u001b[0m \u001b[38;5;28;01mexcept\u001b[39;00m \u001b[38;5;167;01mTypeError\u001b[39;00m:\n\u001b[1;32m     59\u001b[0m     \u001b[38;5;66;03m# A TypeError occurs if the object does have such a method in its\u001b[39;00m\n\u001b[1;32m     60\u001b[0m     \u001b[38;5;66;03m# class, but its signature is not identical to that of NumPy's. This\u001b[39;00m\n\u001b[0;32m   (...)\u001b[0m\n\u001b[1;32m     64\u001b[0m     \u001b[38;5;66;03m# Call _wrapit from within the except clause to ensure a potential\u001b[39;00m\n\u001b[1;32m     65\u001b[0m     \u001b[38;5;66;03m# exception has a traceback chain.\u001b[39;00m\n\u001b[1;32m     66\u001b[0m     \u001b[38;5;28;01mreturn\u001b[39;00m _wrapit(obj, method, \u001b[38;5;241m*\u001b[39margs, \u001b[38;5;241m*\u001b[39m\u001b[38;5;241m*\u001b[39mkwds)\n",
      "\u001b[0;31mMemoryError\u001b[0m: Unable to allocate 1.00 GiB for an array with shape (1238, 108394) and data type int64"
     ]
    }
   ],
   "source": [
    "model = KNeighborsClassifier(metric='cosine')\n",
    "\n",
    "model.fit(X_train.fillna(0).replace([np.inf, -np.inf], 0, inplace=False), y_train)\n",
    "\n",
    "y_pred = model.predict(X_test.fillna(0).replace([np.inf, -np.inf], 0, inplace=False))\n",
    "\n",
    "ConfusionMatrixDisplay(confusion_matrix(y_test.fillna(0).replace([np.inf, -np.inf], 0, inplace=False), y_pred)).plot()\n",
    "\n",
    "print(f\"Recall-score = {recall_score(y_test.fillna(0).replace([np.inf, -np.inf], 0, inplace=False), y_pred) }, F1-score = {f1_score(y_test.fillna(0).replace([np.inf, -np.inf], 0, inplace=False), y_pred)}\")\n",
    "\n"
   ]
  },
  {
   "cell_type": "code",
   "execution_count": null,
   "id": "dc69229e-3b8d-4bad-8ce7-999371747502",
   "metadata": {},
   "outputs": [],
   "source": []
  }
 ],
 "metadata": {
  "kernelspec": {
   "display_name": "Python 3 (ipykernel)",
   "language": "python",
   "name": "python3"
  },
  "language_info": {
   "codemirror_mode": {
    "name": "ipython",
    "version": 3
   },
   "file_extension": ".py",
   "mimetype": "text/x-python",
   "name": "python",
   "nbconvert_exporter": "python",
   "pygments_lexer": "ipython3",
   "version": "3.11.3"
  }
 },
 "nbformat": 4,
 "nbformat_minor": 5
}
